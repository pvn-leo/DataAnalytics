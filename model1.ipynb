{
  "nbformat": 4,
  "nbformat_minor": 0,
  "metadata": {
    "colab": {
      "name": "model1.ipynb",
      "provenance": [],
      "collapsed_sections": [],
      "authorship_tag": "ABX9TyO9y54H3pQow2wzx1zO5bXz",
      "include_colab_link": true
    },
    "kernelspec": {
      "name": "python3",
      "display_name": "Python 3"
    },
    "accelerator": "GPU"
  },
  "cells": [
    {
      "cell_type": "markdown",
      "metadata": {
        "id": "view-in-github",
        "colab_type": "text"
      },
      "source": [
        "<a href=\"https://colab.research.google.com/github/pvn-leo/DataAnalytics/blob/master/model1.ipynb\" target=\"_parent\"><img src=\"https://colab.research.google.com/assets/colab-badge.svg\" alt=\"Open In Colab\"/></a>"
      ]
    },
    {
      "cell_type": "code",
      "metadata": {
        "id": "Wb_u6cwvNu34",
        "outputId": "b55e37a8-1206-41e3-e504-edd77face894",
        "colab": {
          "base_uri": "https://localhost:8080/"
        }
      },
      "source": [
        "from google.colab import drive\n",
        "drive.mount('/content/drive',force_remount = True)"
      ],
      "execution_count": 1,
      "outputs": [
        {
          "output_type": "stream",
          "text": [
            "Mounted at /content/drive\n"
          ],
          "name": "stdout"
        }
      ]
    },
    {
      "cell_type": "code",
      "metadata": {
        "id": "OHaqEztDOIlk",
        "outputId": "1fb496b8-25bf-4c4d-a306-329898999d9e",
        "colab": {
          "base_uri": "https://localhost:8080/",
          "height": 34
        }
      },
      "source": [
        "cd"
      ],
      "execution_count": 2,
      "outputs": [
        {
          "output_type": "stream",
          "text": [
            "/root\n"
          ],
          "name": "stdout"
        }
      ]
    },
    {
      "cell_type": "code",
      "metadata": {
        "id": "gK54Bq9zPAsJ",
        "outputId": "3ea62a00-611c-43c2-e887-498126e58bd7",
        "colab": {
          "base_uri": "https://localhost:8080/",
          "height": 34
        }
      },
      "source": [
        "cd /content/drive/My Drive/da5"
      ],
      "execution_count": 3,
      "outputs": [
        {
          "output_type": "stream",
          "text": [
            "/content/drive/My Drive/da5\n"
          ],
          "name": "stdout"
        }
      ]
    },
    {
      "cell_type": "code",
      "metadata": {
        "id": "qns81TezPBhy"
      },
      "source": [
        "import pandas as pd\n",
        "import numpy as np\n",
        "import matplotlib.pyplot as plt\n",
        "import seaborn as sns"
      ],
      "execution_count": 4,
      "outputs": []
    },
    {
      "cell_type": "code",
      "metadata": {
        "id": "dtnMBdQLPEKO"
      },
      "source": [
        "df=pd.read_csv('./US_accidents1.csv')"
      ],
      "execution_count": 32,
      "outputs": []
    },
    {
      "cell_type": "code",
      "metadata": {
        "id": "uqt8Tf9HPGMz",
        "outputId": "8a370093-6f91-4b3c-9ae6-ea524eabe9c6",
        "colab": {
          "base_uri": "https://localhost:8080/",
          "height": 52
        }
      },
      "source": [
        "print(\"Rows : \", df.shape[0])\n",
        "print(\"Columns : \", df.shape[1])"
      ],
      "execution_count": 33,
      "outputs": [
        {
          "output_type": "stream",
          "text": [
            "Rows :  3513501\n",
            "Columns :  32\n"
          ],
          "name": "stdout"
        }
      ]
    },
    {
      "cell_type": "code",
      "metadata": {
        "id": "7-wOYBj7S1tX",
        "outputId": "bb3a87d4-8093-49d5-aa84-3d3164b90437",
        "colab": {
          "base_uri": "https://localhost:8080/",
          "height": 156
        }
      },
      "source": [
        "df.columns"
      ],
      "execution_count": 34,
      "outputs": [
        {
          "output_type": "execute_result",
          "data": {
            "text/plain": [
              "Index(['Unnamed: 0', 'id', 'source', 'severity', 'start_time', 'end_time',\n",
              "       'start_lat', 'start_lng', 'description', 'side', 'city', 'state',\n",
              "       'temperature(f)', 'humidity(%)', 'pressure(in)', 'visibility(mi)',\n",
              "       'wind_direction', 'wind_speed(mph)', 'weather_condition', 'amenity',\n",
              "       'bump', 'crossing', 'give_way', 'junction', 'no_exit', 'railway',\n",
              "       'roundabout', 'station', 'stop', 'traffic_calming', 'traffic_signal',\n",
              "       'sunrise_sunset'],\n",
              "      dtype='object')"
            ]
          },
          "metadata": {
            "tags": []
          },
          "execution_count": 34
        }
      ]
    },
    {
      "cell_type": "code",
      "metadata": {
        "id": "-aW-pEFiSaQ9"
      },
      "source": [
        "'''\n",
        "df.side.value_counts()\n",
        "li = list(df['side'].value_counts())\n",
        "print(len(li))\n",
        "print(len(df.columns))\n",
        "minimal_categorical=['side','bump','crossing','give_way','junction','no_exit','railway','roundabout','station','stop','traffic_calming','traffic_signal','sunrise_sunset','year','month','day','hour','weekday']\n",
        "one_hot_col = []\n",
        "for i in range(32):\n",
        "  ok = df.columns[i]\n",
        "  li = list(df[ok].value_counts())\n",
        "  if(len(li) >=2 and len(li)<=3):\n",
        "    one_hot_col.append(ok)\n",
        "\n",
        "print(one_hot_col)\n",
        "#['source', 'side', 'amenity', 'bump', 'crossing', 'give_way', 'junction', 'no_exit', 'railway', 'roundabout', 'station', 'stop', 'traffic_calming', 'traffic_signal', 'sunrise_sunset']\n",
        "'''"
      ],
      "execution_count": null,
      "outputs": []
    },
    {
      "cell_type": "code",
      "metadata": {
        "id": "H4WUeGieTSCj"
      },
      "source": [
        "from sklearn.preprocessing import StandardScaler\n",
        "from sklearn.preprocessing import OneHotEncoder\n",
        "from sklearn.preprocessing import LabelEncoder"
      ],
      "execution_count": 35,
      "outputs": []
    },
    {
      "cell_type": "code",
      "metadata": {
        "id": "sUi_5dm9PJDQ"
      },
      "source": [
        "da = df.copy()"
      ],
      "execution_count": 36,
      "outputs": []
    },
    {
      "cell_type": "markdown",
      "metadata": {
        "id": "Y4LswJg32VRS"
      },
      "source": [
        "#Imputations"
      ]
    },
    {
      "cell_type": "code",
      "metadata": {
        "id": "ESivedWD2bVd",
        "outputId": "bd76375c-9c53-4aa9-cc93-f94cb8eac397",
        "colab": {
          "base_uri": "https://localhost:8080/",
          "height": 86
        }
      },
      "source": [
        "#weather_condition has null values, hence best method to fill the missing values would be to fill in the mode since, they are categorical values\n",
        "print(da['weather_condition'].isnull().values.any())\n",
        "weather_cond_mode = (da['weather_condition'].mode())\n",
        "print(weather_cond_mode[0])\n",
        "da[\"weather_condition\"].fillna(weather_cond_mode[0], inplace=True)\n",
        "print(da['weather_condition'].isnull().sum())\n",
        "da['weather_condition'].isnull().values.any()"
      ],
      "execution_count": 37,
      "outputs": [
        {
          "output_type": "stream",
          "text": [
            "True\n",
            "Clear\n",
            "0\n"
          ],
          "name": "stdout"
        },
        {
          "output_type": "execute_result",
          "data": {
            "text/plain": [
              "False"
            ]
          },
          "metadata": {
            "tags": []
          },
          "execution_count": 37
        }
      ]
    },
    {
      "cell_type": "code",
      "metadata": {
        "id": "aQhuyCs92g5m",
        "outputId": "1c4153db-8dde-4ea2-e775-b7d247a8df4e",
        "colab": {
          "base_uri": "https://localhost:8080/",
          "height": 86
        }
      },
      "source": [
        "#wind_direction has null values, hence best method to fill the missing values would be to fill in the mode since, they are categorical values\n",
        "print(da['wind_direction'].isnull().values.any())\n",
        "wind_cond_mode = (da['wind_direction'].mode())\n",
        "print(wind_cond_mode[0])\n",
        "da[\"wind_direction\"].fillna(wind_cond_mode[0], inplace=True)\n",
        "print(da['wind_direction'].isnull().sum())\n",
        "da['wind_direction'].isnull().values.any()"
      ],
      "execution_count": 38,
      "outputs": [
        {
          "output_type": "stream",
          "text": [
            "True\n",
            "Calm\n",
            "0\n"
          ],
          "name": "stdout"
        },
        {
          "output_type": "execute_result",
          "data": {
            "text/plain": [
              "False"
            ]
          },
          "metadata": {
            "tags": []
          },
          "execution_count": 38
        }
      ]
    },
    {
      "cell_type": "code",
      "metadata": {
        "id": "mFeMMUaD31Ww",
        "outputId": "dafe102d-fa6a-4939-8fde-88698e8c3e76",
        "colab": {
          "base_uri": "https://localhost:8080/",
          "height": 104
        }
      },
      "source": [
        "print(da['temperature(f)'].isnull().values.any())\n",
        "print(da['humidity(%)'].isnull().values.any())\n",
        "print(da['pressure(in)'].isnull().values.any())\n",
        "print(da['visibility(mi)'].isnull().values.any())\n",
        "print(da['wind_speed(mph)'].isnull().values.any())"
      ],
      "execution_count": 39,
      "outputs": [
        {
          "output_type": "stream",
          "text": [
            "True\n",
            "True\n",
            "True\n",
            "True\n",
            "True\n"
          ],
          "name": "stdout"
        }
      ]
    },
    {
      "cell_type": "code",
      "metadata": {
        "id": "qJ3NTZ8T5xKI"
      },
      "source": [
        "da['temperature(f)'] = da['temperature(f)'].fillna((da['temperature(f)'].mean()))\n",
        "da['pressure(in)'] = da['pressure(in)'].fillna((da['pressure(in)'].mean()))\n",
        "da['humidity(%)'] = da['humidity(%)'].fillna((da['humidity(%)'].mean()))\n",
        "da['visibility(mi)'] = da['visibility(mi)'].fillna((da['visibility(mi)'].median()))\n",
        "da['wind_speed(mph)'] = da['wind_speed(mph)'].fillna((da['wind_speed(mph)'].median()))"
      ],
      "execution_count": 40,
      "outputs": []
    },
    {
      "cell_type": "code",
      "metadata": {
        "id": "imtKVng-4Iy7",
        "outputId": "5bdf87b8-1a46-4d5b-eff1-5351c4bab8c5",
        "colab": {
          "base_uri": "https://localhost:8080/",
          "height": 104
        }
      },
      "source": [
        "print(da['temperature(f)'].isnull().values.any())\n",
        "print(da['humidity(%)'].isnull().values.any())\n",
        "print(da['pressure(in)'].isnull().values.any())\n",
        "print(da['visibility(mi)'].isnull().values.any())\n",
        "print(da['wind_speed(mph)'].isnull().values.any())"
      ],
      "execution_count": 41,
      "outputs": [
        {
          "output_type": "stream",
          "text": [
            "False\n",
            "False\n",
            "False\n",
            "False\n",
            "False\n"
          ],
          "name": "stdout"
        }
      ]
    },
    {
      "cell_type": "markdown",
      "metadata": {
        "id": "TJgV2bXS3tYO"
      },
      "source": [
        "# Scaling/Encoding"
      ]
    },
    {
      "cell_type": "code",
      "metadata": {
        "id": "sRZM2lAJp0hM"
      },
      "source": [
        "numerical_cols = ['temperature(f)','humidity(%)','pressure(in)','visibility(mi)','wind_speed(mph)']\n",
        "#normal distribution - mean is 0 and variance is 1, standard scaling\n",
        "#scaling\n",
        "for i in numerical_cols:\n",
        "    scale = StandardScaler().fit(da[[i]])\n",
        "    #inplace transformation\n",
        "    da[i] = scale.transform(da[[i]])"
      ],
      "execution_count": 42,
      "outputs": []
    },
    {
      "cell_type": "code",
      "metadata": {
        "id": "oupVtprgREUU"
      },
      "source": [
        "#using pd_getdummies(one hot encoding)\n",
        "# all of these columns are like binary values true/false, or have atmost 3 unique values\n",
        "onehotencode = ['side', 'bump', 'crossing', 'give_way', 'junction', 'no_exit', 'railway', 'roundabout', 'station', 'stop', 'traffic_calming', 'traffic_signal', 'sunrise_sunset']\n",
        "for i in onehotencode:\n",
        "    da = pd.concat([da,pd.get_dummies(da[i], prefix=i)],axis=1)\n",
        "    da.drop([i],axis=1, inplace=True)"
      ],
      "execution_count": 43,
      "outputs": []
    },
    {
      "cell_type": "code",
      "metadata": {
        "id": "g8WJfJ5zkO7q",
        "outputId": "406d356a-e376-44b5-d2fe-c9e411324cab",
        "colab": {
          "base_uri": "https://localhost:8080/",
          "height": 86
        }
      },
      "source": [
        "#label encoding\n",
        "#many unique values for each attribute, hence label encoding\n",
        "label_encode=['source','city','weather_condition', 'wind_direction']\n",
        "labelencoder = LabelEncoder()\n",
        "# Assigning numerical values and storing in another column\n",
        "for i in label_encode:\n",
        "    da[i] = labelencoder.fit_transform(da[i])\n",
        "    print(i+\" done\")"
      ],
      "execution_count": 44,
      "outputs": [
        {
          "output_type": "stream",
          "text": [
            "source done\n",
            "city done\n",
            "weather_condition done\n",
            "wind_direction done\n"
          ],
          "name": "stdout"
        }
      ]
    },
    {
      "cell_type": "code",
      "metadata": {
        "id": "tq7KNz4uz8cE",
        "outputId": "bb57030c-6181-4a33-acdd-e41757a94770",
        "colab": {
          "base_uri": "https://localhost:8080/",
          "height": 225
        }
      },
      "source": [
        "da.columns"
      ],
      "execution_count": 45,
      "outputs": [
        {
          "output_type": "execute_result",
          "data": {
            "text/plain": [
              "Index(['Unnamed: 0', 'id', 'source', 'severity', 'start_time', 'end_time',\n",
              "       'start_lat', 'start_lng', 'description', 'city', 'state',\n",
              "       'temperature(f)', 'humidity(%)', 'pressure(in)', 'visibility(mi)',\n",
              "       'wind_direction', 'wind_speed(mph)', 'weather_condition', 'amenity',\n",
              "       'side_ ', 'side_L', 'side_R', 'bump_False', 'bump_True',\n",
              "       'crossing_False', 'crossing_True', 'give_way_False', 'give_way_True',\n",
              "       'junction_False', 'junction_True', 'no_exit_False', 'no_exit_True',\n",
              "       'railway_False', 'railway_True', 'roundabout_False', 'roundabout_True',\n",
              "       'station_False', 'station_True', 'stop_False', 'stop_True',\n",
              "       'traffic_calming_False', 'traffic_calming_True', 'traffic_signal_False',\n",
              "       'traffic_signal_True', 'sunrise_sunset_Day', 'sunrise_sunset_Night'],\n",
              "      dtype='object')"
            ]
          },
          "metadata": {
            "tags": []
          },
          "execution_count": 45
        }
      ]
    },
    {
      "cell_type": "markdown",
      "metadata": {
        "id": "vohFuuD47E_t"
      },
      "source": [
        "# Model"
      ]
    },
    {
      "cell_type": "code",
      "metadata": {
        "id": "E2XoLjpMlUrG",
        "outputId": "155d61a5-6e80-4940-e214-cd5f3daffd23",
        "colab": {
          "base_uri": "https://localhost:8080/",
          "height": 225
        }
      },
      "source": [
        "from sklearn.linear_model import LogisticRegression\n",
        "from sklearn.model_selection import train_test_split\n",
        "from sklearn.metrics import accuracy_score\n",
        "target='severity'\n",
        "\n",
        "unwanted_col=['Unnamed: 0','id', 'start_time','end_time','description','state']\n",
        "X = da.drop(unwanted_col, axis=1)\n",
        "y = da[target]\n",
        "\n",
        "\n",
        "X_train, X_test, y_train, y_test = train_test_split(X, y, test_size=0.2, random_state=21, stratify=y)\n",
        "logistic_regression = LogisticRegression(random_state=0, verbose=10)\n",
        "logistic_regression.fit(X_train,y_train)\n",
        "y_pred=logistic_regression.predict(X_test)\n",
        "\n",
        "# Get the accuracy score\n",
        "acc=accuracy_score(y_test, y_pred)\n",
        "print(acc)"
      ],
      "execution_count": 49,
      "outputs": [
        {
          "output_type": "stream",
          "text": [
            "[Parallel(n_jobs=1)]: Using backend SequentialBackend with 1 concurrent workers.\n",
            "/usr/local/lib/python3.6/dist-packages/sklearn/linear_model/_logistic.py:940: ConvergenceWarning: lbfgs failed to converge (status=1):\n",
            "STOP: TOTAL NO. of ITERATIONS REACHED LIMIT.\n",
            "\n",
            "Increase the number of iterations (max_iter) or scale the data as shown in:\n",
            "    https://scikit-learn.org/stable/modules/preprocessing.html\n",
            "Please also refer to the documentation for alternative solver options:\n",
            "    https://scikit-learn.org/stable/modules/linear_model.html#logistic-regression\n",
            "  extra_warning_msg=_LOGISTIC_SOLVER_CONVERGENCE_MSG)\n",
            "[Parallel(n_jobs=1)]: Done   1 out of   1 | elapsed:  2.3min remaining:    0.0s\n",
            "[Parallel(n_jobs=1)]: Done   1 out of   1 | elapsed:  2.3min finished\n"
          ],
          "name": "stderr"
        },
        {
          "output_type": "stream",
          "text": [
            "0.6754323673938133\n"
          ],
          "name": "stdout"
        }
      ]
    },
    {
      "cell_type": "code",
      "metadata": {
        "id": "CgDBLSHK0atI"
      },
      "source": [
        ""
      ],
      "execution_count": null,
      "outputs": []
    }
  ]
}