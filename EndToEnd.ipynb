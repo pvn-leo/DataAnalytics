{
  "nbformat": 4,
  "nbformat_minor": 0,
  "metadata": {
    "colab": {
      "name": "EndToEnd.ipynb",
      "provenance": [],
      "collapsed_sections": [
        "qu53lzkhVGcP",
        "Rs3yzgx7VWCV"
      ],
      "authorship_tag": "ABX9TyOLfrcVbqhOSkKyU9EcYKYP",
      "include_colab_link": true
    },
    "kernelspec": {
      "name": "python3",
      "display_name": "Python 3"
    },
    "accelerator": "GPU"
  },
  "cells": [
    {
      "cell_type": "markdown",
      "metadata": {
        "id": "view-in-github",
        "colab_type": "text"
      },
      "source": [
        "<a href=\"https://colab.research.google.com/github/pvn-leo/DataAnalytics/blob/master/EndToEnd.ipynb\" target=\"_parent\"><img src=\"https://colab.research.google.com/assets/colab-badge.svg\" alt=\"Open In Colab\"/></a>"
      ]
    },
    {
      "cell_type": "code",
      "metadata": {
        "id": "Vm4O7RihDoOi",
        "outputId": "ffeaab19-97ec-4f45-9374-8a6e01ad4b04",
        "colab": {
          "base_uri": "https://localhost:8080/"
        }
      },
      "source": [
        "from google.colab import drive\n",
        "drive.mount('/content/drive',force_remount = True)"
      ],
      "execution_count": 1,
      "outputs": [
        {
          "output_type": "stream",
          "text": [
            "Mounted at /content/drive\n"
          ],
          "name": "stdout"
        }
      ]
    },
    {
      "cell_type": "markdown",
      "metadata": {
        "id": "llHu9dqxH4Bq"
      },
      "source": [
        "# Inits + Imports"
      ]
    },
    {
      "cell_type": "code",
      "metadata": {
        "id": "V9j5Gc-_Ish2",
        "outputId": "7ba37060-aebe-4776-9302-a53a847e8c24",
        "colab": {
          "base_uri": "https://localhost:8080/"
        }
      },
      "source": [
        "cd"
      ],
      "execution_count": 2,
      "outputs": [
        {
          "output_type": "stream",
          "text": [
            "/root\n"
          ],
          "name": "stdout"
        }
      ]
    },
    {
      "cell_type": "code",
      "metadata": {
        "id": "XyQtm3WbIt6v",
        "outputId": "e5c19d31-1971-42f1-844b-864cbaf13395",
        "colab": {
          "base_uri": "https://localhost:8080/"
        }
      },
      "source": [
        "cd /content/drive/My Drive/da5"
      ],
      "execution_count": 3,
      "outputs": [
        {
          "output_type": "stream",
          "text": [
            "/content/drive/My Drive/da5\n"
          ],
          "name": "stdout"
        }
      ]
    },
    {
      "cell_type": "code",
      "metadata": {
        "id": "k8GTJDhzJ2yT"
      },
      "source": [
        "import pandas as pd\n",
        "import numpy as np\n",
        "import matplotlib.pyplot as plt\n",
        "import seaborn as sns\n",
        "import warnings\n",
        "import time"
      ],
      "execution_count": 4,
      "outputs": []
    },
    {
      "cell_type": "code",
      "metadata": {
        "id": "HWVsYy_YIvHY"
      },
      "source": [
        "df = pd.read_csv('./US_Accidents_June20.csv')\n",
        "#df.columns = map(str.lower, df.columns)"
      ],
      "execution_count": 5,
      "outputs": []
    },
    {
      "cell_type": "code",
      "metadata": {
        "id": "nQkvQuzaRlOw"
      },
      "source": [
        ""
      ],
      "execution_count": 5,
      "outputs": []
    },
    {
      "cell_type": "code",
      "metadata": {
        "id": "95Flw8-uJwbv"
      },
      "source": [
        "df['Start_Time'] = pd.to_datetime(df['Start_Time'])\n",
        "df['End_Time'] = pd.to_datetime(df['End_Time'])\n",
        "df['Month'] = df['Start_Time'].dt.month\n",
        "df['Year'] = df['Start_Time'].dt.year\n",
        "df['Hour'] = df['Start_Time'].dt.hour\n",
        "df['Weekday'] = df['Start_Time'].dt.weekday\n",
        "df['Duration'] = (df['End_Time'] - df['Start_Time']).dt.total_seconds()/60\n",
        "#dropping duplicates + duration= [0,1] week\n",
        "oneweek = 7 * 24 * 60"
      ],
      "execution_count": 6,
      "outputs": []
    },
    {
      "cell_type": "code",
      "metadata": {
        "id": "t8zfTIWoHykj"
      },
      "source": [
        "df_clean = df[(df['Duration']>0) & (df['Duration']< oneweek)].drop_duplicates(subset=['Start_Time','End_Time','City','Street','Number','Description'])"
      ],
      "execution_count": 7,
      "outputs": []
    },
    {
      "cell_type": "markdown",
      "metadata": {
        "id": "l8NyQ9mwN5TK"
      },
      "source": [
        "# <b>Cleaning</b>"
      ]
    },
    {
      "cell_type": "markdown",
      "metadata": {
        "id": "qu53lzkhVGcP"
      },
      "source": [
        "### Dropping columns"
      ]
    },
    {
      "cell_type": "markdown",
      "metadata": {
        "id": "mLKzVtf2Pad8"
      },
      "source": [
        "<b> Reasons for dropping the respective columns:</b>  \n",
        "1. ```Source``` - Just because an accident was reported by a particular source doesn't influence the accident in no way.\n",
        "2. ```ID``` - Being a unique number for an accident has no impact on accident  \n",
        "3. ```TMC``` - Inferred attribute from accident\n",
        "4. ```Description``` - Inferred attribute from accident\n",
        "5. ```Distance(mi)``` - the length of road affected by road accident doesn't really influence accident causation and they are inferred attributes.\n",
        "6. ```End_Time``` - obtained only after accident occurs (we already have the timestamp)\n",
        "7. ```End_Lat``` - obtained only after accident occurs (we already have start_lat and start_lng)\n",
        "8. ```End_Lng``` - obtained only after accident occurs\n",
        "9. ```Country``` - univalued i.e 'US'\n",
        "10. ```Turning_Loop``` - univalued i.e 'false'\n",
        "11. ```Weather_Timestamp``` - Timestamped data, talks more about weather observation time, rather than giving insights on accident occurences\n"
      ]
    },
    {
      "cell_type": "code",
      "metadata": {
        "id": "nU1qb-DxLFL-"
      },
      "source": [
        "df_clean = df_clean.drop(['Source', 'ID','TMC','Description', 'Distance(mi)','Duration', 'End_Time', 'End_Lat', 'End_Lng', 'Country','Turning_Loop', 'Weather_Timestamp' ], axis=1)\n",
        "#df_clean = df_clean.drop(['Number','Wind_Chill(F)'], axis=1) done in the next"
      ],
      "execution_count": 8,
      "outputs": []
    },
    {
      "cell_type": "markdown",
      "metadata": {
        "id": "Rs3yzgx7VWCV"
      },
      "source": [
        "### Missing data"
      ]
    },
    {
      "cell_type": "markdown",
      "metadata": {
        "id": "4uIoiDPj2obR"
      },
      "source": [
        "12. ```Number``` -  64.4% missing data\n",
        "13. ```Wind_Chill``` - 53.3% missing data"
      ]
    },
    {
      "cell_type": "code",
      "metadata": {
        "id": "n4DLcImSNI1c"
      },
      "source": [
        "def missing_values_table(df):\n",
        "        mis_val = df.isnull().sum()\n",
        "        mis_val_percent = 100 * df.isnull().sum() / len(df)\n",
        "        mis_val_table = pd.concat([mis_val, mis_val_percent], axis=1)\n",
        "        mis_val_table_ren_columns = mis_val_table.rename(\n",
        "        columns = {0 : 'Missing Values', 1 : '% of Total Values'})\n",
        "        mis_val_table_ren_columns = mis_val_table_ren_columns[\n",
        "            mis_val_table_ren_columns.iloc[:,1] != 0].sort_values(\n",
        "        '% of Total Values', ascending=False).round(1)\n",
        "        print (\"The dataframe has \" + str(df.shape[1]) + \" columns.\\n\"      \n",
        "            \"There are \" + str(mis_val_table_ren_columns.shape[0]) +\n",
        "              \" columns that have missing values.\")\n",
        "        return mis_val_table_ren_columns\n",
        "        "
      ],
      "execution_count": 9,
      "outputs": []
    },
    {
      "cell_type": "code",
      "metadata": {
        "id": "S2d3MuimNfkw",
        "outputId": "5d03fa17-c121-418b-cabc-3e6cfc7a10a9",
        "colab": {
          "base_uri": "https://localhost:8080/",
          "height": 650
        }
      },
      "source": [
        "missing_values_table(df_clean)"
      ],
      "execution_count": 10,
      "outputs": [
        {
          "output_type": "stream",
          "text": [
            "The dataframe has 42 columns.\n",
            "There are 18 columns that have missing values.\n"
          ],
          "name": "stdout"
        },
        {
          "output_type": "execute_result",
          "data": {
            "text/html": [
              "<div>\n",
              "<style scoped>\n",
              "    .dataframe tbody tr th:only-of-type {\n",
              "        vertical-align: middle;\n",
              "    }\n",
              "\n",
              "    .dataframe tbody tr th {\n",
              "        vertical-align: top;\n",
              "    }\n",
              "\n",
              "    .dataframe thead th {\n",
              "        text-align: right;\n",
              "    }\n",
              "</style>\n",
              "<table border=\"1\" class=\"dataframe\">\n",
              "  <thead>\n",
              "    <tr style=\"text-align: right;\">\n",
              "      <th></th>\n",
              "      <th>Missing Values</th>\n",
              "      <th>% of Total Values</th>\n",
              "    </tr>\n",
              "  </thead>\n",
              "  <tbody>\n",
              "    <tr>\n",
              "      <th>Number</th>\n",
              "      <td>2249747</td>\n",
              "      <td>64.4</td>\n",
              "    </tr>\n",
              "    <tr>\n",
              "      <th>Precipitation(in)</th>\n",
              "      <td>2017879</td>\n",
              "      <td>57.8</td>\n",
              "    </tr>\n",
              "    <tr>\n",
              "      <th>Wind_Chill(F)</th>\n",
              "      <td>1860561</td>\n",
              "      <td>53.3</td>\n",
              "    </tr>\n",
              "    <tr>\n",
              "      <th>Wind_Speed(mph)</th>\n",
              "      <td>452590</td>\n",
              "      <td>13.0</td>\n",
              "    </tr>\n",
              "    <tr>\n",
              "      <th>Weather_Condition</th>\n",
              "      <td>75443</td>\n",
              "      <td>2.2</td>\n",
              "    </tr>\n",
              "    <tr>\n",
              "      <th>Visibility(mi)</th>\n",
              "      <td>75159</td>\n",
              "      <td>2.2</td>\n",
              "    </tr>\n",
              "    <tr>\n",
              "      <th>Humidity(%)</th>\n",
              "      <td>69195</td>\n",
              "      <td>2.0</td>\n",
              "    </tr>\n",
              "    <tr>\n",
              "      <th>Temperature(F)</th>\n",
              "      <td>65270</td>\n",
              "      <td>1.9</td>\n",
              "    </tr>\n",
              "    <tr>\n",
              "      <th>Wind_Direction</th>\n",
              "      <td>58145</td>\n",
              "      <td>1.7</td>\n",
              "    </tr>\n",
              "    <tr>\n",
              "      <th>Pressure(in)</th>\n",
              "      <td>55492</td>\n",
              "      <td>1.6</td>\n",
              "    </tr>\n",
              "    <tr>\n",
              "      <th>Airport_Code</th>\n",
              "      <td>6679</td>\n",
              "      <td>0.2</td>\n",
              "    </tr>\n",
              "    <tr>\n",
              "      <th>Timezone</th>\n",
              "      <td>3805</td>\n",
              "      <td>0.1</td>\n",
              "    </tr>\n",
              "    <tr>\n",
              "      <th>Zipcode</th>\n",
              "      <td>1004</td>\n",
              "      <td>0.0</td>\n",
              "    </tr>\n",
              "    <tr>\n",
              "      <th>Sunrise_Sunset</th>\n",
              "      <td>113</td>\n",
              "      <td>0.0</td>\n",
              "    </tr>\n",
              "    <tr>\n",
              "      <th>Civil_Twilight</th>\n",
              "      <td>113</td>\n",
              "      <td>0.0</td>\n",
              "    </tr>\n",
              "    <tr>\n",
              "      <th>Nautical_Twilight</th>\n",
              "      <td>113</td>\n",
              "      <td>0.0</td>\n",
              "    </tr>\n",
              "    <tr>\n",
              "      <th>Astronomical_Twilight</th>\n",
              "      <td>113</td>\n",
              "      <td>0.0</td>\n",
              "    </tr>\n",
              "    <tr>\n",
              "      <th>City</th>\n",
              "      <td>110</td>\n",
              "      <td>0.0</td>\n",
              "    </tr>\n",
              "  </tbody>\n",
              "</table>\n",
              "</div>"
            ],
            "text/plain": [
              "                       Missing Values  % of Total Values\n",
              "Number                        2249747               64.4\n",
              "Precipitation(in)             2017879               57.8\n",
              "Wind_Chill(F)                 1860561               53.3\n",
              "Wind_Speed(mph)                452590               13.0\n",
              "Weather_Condition               75443                2.2\n",
              "Visibility(mi)                  75159                2.2\n",
              "Humidity(%)                     69195                2.0\n",
              "Temperature(F)                  65270                1.9\n",
              "Wind_Direction                  58145                1.7\n",
              "Pressure(in)                    55492                1.6\n",
              "Airport_Code                     6679                0.2\n",
              "Timezone                         3805                0.1\n",
              "Zipcode                          1004                0.0\n",
              "Sunrise_Sunset                    113                0.0\n",
              "Civil_Twilight                    113                0.0\n",
              "Nautical_Twilight                 113                0.0\n",
              "Astronomical_Twilight             113                0.0\n",
              "City                              110                0.0"
            ]
          },
          "metadata": {
            "tags": []
          },
          "execution_count": 10
        }
      ]
    },
    {
      "cell_type": "code",
      "metadata": {
        "id": "sunU7TFTNiF8"
      },
      "source": [
        "#drop 'Number' and 'Wind_Chill(F)' since missing value % > 50\n",
        "df_clean = df_clean.drop(['Number','Wind_Chill(F)'], axis=1)"
      ],
      "execution_count": 11,
      "outputs": []
    },
    {
      "cell_type": "code",
      "metadata": {
        "id": "ckdLmLqsBnFh"
      },
      "source": [
        "#For all those attributes with < 50% the method used is dropna() where null rows are just dropped. Ignoring such columns as a whole will immensely impact predictions\n",
        "df_clean = df_clean.dropna(subset=['City','Astronomical_Twilight','Nautical_Twilight', 'Civil_Twilight', 'Sunrise_Sunset', 'Zipcode','Timezone','Airport_Code'])"
      ],
      "execution_count": 12,
      "outputs": []
    },
    {
      "cell_type": "markdown",
      "metadata": {
        "id": "Vj6D_JruDq1f"
      },
      "source": [
        "### Imputations"
      ]
    },
    {
      "cell_type": "markdown",
      "metadata": {
        "id": "ESzXGF5FdW45"
      },
      "source": [
        "Mean imputations   (continous) - ```Temperature(F), Pressure(in), Humidity(%)```  \n",
        "Median imputations (continous) - ```Visibility(mi), Wind_Speed(mph)```  \n",
        "Modal imputations  (categorical)  - ```Weather_Codition, Wind_Direction```"
      ]
    },
    {
      "cell_type": "code",
      "metadata": {
        "id": "1aKAUJjxDPVW"
      },
      "source": [
        "#Mean/Median imputations\n",
        "df_clean['Temperature(F)'] = df_clean['Temperature(F)'].fillna((df_clean['Temperature(F)'].mean()))\n",
        "df_clean['Pressure(in)'] = df_clean['Pressure(in)'].fillna((df_clean['Pressure(in)'].mean()))\n",
        "df_clean['Humidity(%)'] = df_clean['Humidity(%)'].fillna((df_clean['Humidity(%)'].mean()))\n",
        "df_clean['Visibility(mi)'] = df_clean['Visibility(mi)'].fillna((df_clean['Visibility(mi)'].median()))\n",
        "df_clean['Wind_Speed(mph)'] = df_clean['Wind_Speed(mph)'].fillna((df_clean['Wind_Speed(mph)'].median()))"
      ],
      "execution_count": 13,
      "outputs": []
    },
    {
      "cell_type": "code",
      "metadata": {
        "id": "FaMcmKh7fNjg"
      },
      "source": [
        "#modal imputations\n",
        "weather_cond_mode = (df_clean['Weather_Condition'].mode())\n",
        "df_clean[\"Weather_Condition\"].fillna(weather_cond_mode[0], inplace=True)\n",
        "\n",
        "weather_cond_mode = (df_clean['Wind_Direction'].mode())\n",
        "df_clean[\"Wind_Direction\"].fillna(weather_cond_mode[0], inplace=True)"
      ],
      "execution_count": 14,
      "outputs": []
    },
    {
      "cell_type": "code",
      "metadata": {
        "id": "IsULQE3Eg3C_"
      },
      "source": [
        "#lets see what to do about this\n",
        "df_clean = df_clean.drop(['Precipitation(in)'], axis = 1 )"
      ],
      "execution_count": 15,
      "outputs": []
    },
    {
      "cell_type": "code",
      "metadata": {
        "id": "maezWCHlDh42",
        "outputId": "5dc0f7aa-d555-4f43-bdf0-fed2adb02156",
        "colab": {
          "base_uri": "https://localhost:8080/",
          "height": 86
        }
      },
      "source": [
        "missing_values_table(df_clean)"
      ],
      "execution_count": 16,
      "outputs": [
        {
          "output_type": "stream",
          "text": [
            "The dataframe has 39 columns.\n",
            "There are 0 columns that have missing values.\n"
          ],
          "name": "stdout"
        },
        {
          "output_type": "execute_result",
          "data": {
            "text/html": [
              "<div>\n",
              "<style scoped>\n",
              "    .dataframe tbody tr th:only-of-type {\n",
              "        vertical-align: middle;\n",
              "    }\n",
              "\n",
              "    .dataframe tbody tr th {\n",
              "        vertical-align: top;\n",
              "    }\n",
              "\n",
              "    .dataframe thead th {\n",
              "        text-align: right;\n",
              "    }\n",
              "</style>\n",
              "<table border=\"1\" class=\"dataframe\">\n",
              "  <thead>\n",
              "    <tr style=\"text-align: right;\">\n",
              "      <th></th>\n",
              "      <th>Missing Values</th>\n",
              "      <th>% of Total Values</th>\n",
              "    </tr>\n",
              "  </thead>\n",
              "  <tbody>\n",
              "  </tbody>\n",
              "</table>\n",
              "</div>"
            ],
            "text/plain": [
              "Empty DataFrame\n",
              "Columns: [Missing Values, % of Total Values]\n",
              "Index: []"
            ]
          },
          "metadata": {
            "tags": []
          },
          "execution_count": 16
        }
      ]
    },
    {
      "cell_type": "markdown",
      "metadata": {
        "id": "x__gbWiu25So"
      },
      "source": [
        "### Dropping some more tables"
      ]
    },
    {
      "cell_type": "code",
      "metadata": {
        "id": "WI52_kHSh9Ce",
        "outputId": "0c0bf4f9-c182-4a89-bbbe-e6a080cfb1bd",
        "colab": {
          "base_uri": "https://localhost:8080/",
          "height": 711
        }
      },
      "source": [
        "#POI Features from kaggle website https://www.kaggle.com/sobhanmoosavi/us-accidents\n",
        "POI = ['Bump', 'Give_Way', 'No_Exit', 'Traffic_Calming', 'Roundabout', 'Amenity', 'Crossing','Junction', 'Railway','Station','Stop','Traffic_Signal']\n",
        "\n",
        "fig, axs = plt.subplots(ncols=4, nrows=3, figsize=(15, 10))\n",
        "plt.subplots_adjust(hspace=0.8,wspace = 0.5)\n",
        "\n",
        "for i, feature in enumerate(POI, 1):    \n",
        "    plt.subplot(4, 3, i)\n",
        "    sns.countplot(x=feature, data=df_clean, hue='Severity', palette=\"Set1\")\n",
        "    \n",
        "    plt.xlabel('{}'.format(feature), size=12, labelpad=3)\n",
        "    plt.ylabel('Accident Count', size=12, labelpad=3)    \n",
        "    plt.tick_params(axis='x', labelsize=12)\n",
        "    plt.tick_params(axis='y', labelsize=12)\n",
        "    \n",
        "    plt.legend(['1','2','3','4'], prop={'size': 10}, loc='upper right')\n",
        "    plt.title('Severity -  {}'.format(feature), size=10, y = 1.05)\n",
        "fig.suptitle('Severity counts for each POI',y=1.02, fontsize=16)\n",
        "plt.show()"
      ],
      "execution_count": 17,
      "outputs": [
        {
          "output_type": "display_data",
          "data": {
            "image/png": "[encoded data removed]",
            "text/plain": [
              "<Figure size 1080x720 with 12 Axes>"
            ]
          },
          "metadata": {
            "tags": [],
            "needs_background": "light"
          }
        }
      ]
    },
    {
      "cell_type": "markdown",
      "metadata": {
        "id": "_tKJ9Z583Dwg"
      },
      "source": [
        "As it can be seen from the above subplots and even evident through the dataset overview on kaggle, ```'Bump','Give_Way','No_Exit','Roundabout','Traffic_Calming'``` have no visible/significant True values indicating whether that POI feature played a part in accident occurance.\n",
        "\n",
        "| POI_Features | True | False |\n",
        "| --------------- | --------------- | --------------- |\n",
        "| Bump | 606 (0%) | 3.51m (100%) |\n",
        "| Give_Way | 9564 (0%) | 3.51m (100%) |\n",
        "| No_Exit  | 4384 (0%) | 3.51m (100%) |\n",
        "| Roundabout  | 184 (0%) | 3.51m (100%) |\n",
        "| Traffic_Calming  | 1401 (0%) | 3.51m (100%) |\n",
        "\n",
        "\n",
        "It can be seen that if these POI features were False then more accidents occured and it would make the model biased to the False values of these attributes in predicting an accident. All these attributes have True accounted for almost 100% of the data and False account for approx 0%.\n",
        "\n",
        "Hence it would be right to drop the attributes itself.  \n",
        "<br/>\n",
        "<br/>\n",
        "```Civil_twilight, Nautical_Twilight, Astronomical_Twilight``` have many rows with same values for each attribute. These three columns just shows the period of the day (i.e day or night) based on Civil, Nautical and Astronomical twilight. But since we are already accounting for ```Sunrise_Sunset```, which shows the period of the day based on sunrise/sunset, the other three columns account for duplicate meanings/data and also show high correlation against each other. [This is from the description of the dataset on kaggle]  \n",
        "\n",
        "\n",
        "Since we are already accounting for ```Month, Hour, Weekday``` attributes we are dropping the ```Start_Time, Year``` as well.  \n",
        "\n",
        "```County, Airport_Code, Zip_Code``` are dropped upon feature selection and trial and error based model predictions."
      ]
    },
    {
      "cell_type": "code",
      "metadata": {
        "id": "la4eiyd5Ou8q"
      },
      "source": [
        "df_clean= df_clean.drop(['Bump','Give_Way','No_Exit','Roundabout','Traffic_Calming'], axis=1)\n",
        "df_clean = df_clean.drop(['Civil_Twilight', 'Nautical_Twilight','Astronomical_Twilight'], axis=1)\n",
        "df_clean = df_clean.drop(['Start_Time'], axis = 1)\n",
        "df_clean = df_clean.drop(['Zipcode','Airport_Code','Year'], axis=1)\n",
        "df_clean = df_clean.drop(['County'], axis = 1)\n",
        "#df_clean = df_clean.drop(['Month', 'Hour', 'Weekday', 'Street', 'City'], axis = 1)"
      ],
      "execution_count": 18,
      "outputs": []
    },
    {
      "cell_type": "markdown",
      "metadata": {
        "id": "tUL-zvqiIhiC"
      },
      "source": [
        "### Scaling + Encoding"
      ]
    },
    {
      "cell_type": "code",
      "metadata": {
        "id": "1XrfiwA1IodM"
      },
      "source": [
        "da = df_clean.copy()"
      ],
      "execution_count": 19,
      "outputs": []
    },
    {
      "cell_type": "code",
      "metadata": {
        "id": "a7znMwYsNA4g"
      },
      "source": [
        "da = da.replace([True, False], [1,0])"
      ],
      "execution_count": 20,
      "outputs": []
    },
    {
      "cell_type": "code",
      "metadata": {
        "id": "B3nEeU_xPBI4",
        "outputId": "8dd7ce0f-9209-46f7-af07-099c58742b0d",
        "colab": {
          "base_uri": "https://localhost:8080/"
        }
      },
      "source": [
        "da.columns"
      ],
      "execution_count": 21,
      "outputs": [
        {
          "output_type": "execute_result",
          "data": {
            "text/plain": [
              "Index(['Severity', 'Start_Lat', 'Start_Lng', 'Street', 'Side', 'City', 'State',\n",
              "       'Timezone', 'Temperature(F)', 'Humidity(%)', 'Pressure(in)',\n",
              "       'Visibility(mi)', 'Wind_Direction', 'Wind_Speed(mph)',\n",
              "       'Weather_Condition', 'Amenity', 'Crossing', 'Junction', 'Railway',\n",
              "       'Station', 'Stop', 'Traffic_Signal', 'Sunrise_Sunset', 'Month', 'Hour',\n",
              "       'Weekday'],\n",
              "      dtype='object')"
            ]
          },
          "metadata": {
            "tags": []
          },
          "execution_count": 21
        }
      ]
    },
    {
      "cell_type": "code",
      "metadata": {
        "id": "IyTjys8JUSRe"
      },
      "source": [
        "from sklearn.preprocessing import StandardScaler\n",
        "from sklearn.preprocessing import OneHotEncoder\n",
        "from sklearn.preprocessing import LabelEncoder"
      ],
      "execution_count": 22,
      "outputs": []
    },
    {
      "cell_type": "code",
      "metadata": {
        "id": "VoCjAUZMPClX"
      },
      "source": [
        "#using pd_getdummies(one hot encoding)\n",
        "# all of these columns are like binary values true/false, or have atmost 3 unique values\n",
        "#WARNING : THIS WILL ADD EXTRA COLUMNS TO THE DATSET, since its ONE-HOT encoding\n",
        "onehotencode = ['Side', 'State', 'Timezone', 'Sunrise_Sunset']\n",
        "#weekday, wind_direction, month, hour\n",
        "for i in onehotencode:\n",
        "    da = pd.concat([da,pd.get_dummies(da[i], prefix=i)],axis=1)\n",
        "    da.drop([i],axis=1, inplace=True)"
      ],
      "execution_count": 23,
      "outputs": []
    },
    {
      "cell_type": "code",
      "metadata": {
        "id": "I7iPQTz7UAql"
      },
      "source": [
        "numerical_cols = ['Temperature(F)','Humidity(%)','Pressure(in)','Visibility(mi)','Wind_Speed(mph)']\n",
        "#normal distribution - mean is 0 and variance is 1, standard scaling\n",
        "#scaling\n",
        "for i in numerical_cols:\n",
        "    scale = StandardScaler().fit(da[[i]])\n",
        "    #inplace transformation\n",
        "    da[i] = scale.transform(da[[i]])"
      ],
      "execution_count": 24,
      "outputs": []
    },
    {
      "cell_type": "code",
      "metadata": {
        "id": "LYBydRKBUPLl",
        "outputId": "9f319853-e27d-4ac7-af78-315c9cfdbbeb",
        "colab": {
          "base_uri": "https://localhost:8080/"
        }
      },
      "source": [
        "#label encoding\n",
        "#many unique values . 3 for each attribute, hence label encoding\n",
        "label_encode=['Weather_Condition', 'Wind_Direction', 'Month', 'Hour', 'Weekday', 'Street', 'City']\n",
        "labelencoder = LabelEncoder()\n",
        "# Assigning numerical values and storing in another column\n",
        "for i in label_encode:\n",
        "    da[i] = labelencoder.fit_transform(da[i])\n",
        "    print(i+\" done\")"
      ],
      "execution_count": 25,
      "outputs": [
        {
          "output_type": "stream",
          "text": [
            "Weather_Condition done\n",
            "Wind_Direction done\n",
            "Month done\n",
            "Hour done\n",
            "Weekday done\n",
            "Street done\n",
            "City done\n"
          ],
          "name": "stdout"
        }
      ]
    },
    {
      "cell_type": "code",
      "metadata": {
        "id": "oFXjKKodU2jj",
        "outputId": "04857909-2bd8-4e95-f808-0e79049c9e7c",
        "colab": {
          "base_uri": "https://localhost:8080/"
        }
      },
      "source": [
        "da[\"Severity\"].value_counts()"
      ],
      "execution_count": 26,
      "outputs": [
        {
          "output_type": "execute_result",
          "data": {
            "text/plain": [
              "2    2355543\n",
              "3     991939\n",
              "4     109355\n",
              "1      27110\n",
              "Name: Severity, dtype: int64"
            ]
          },
          "metadata": {
            "tags": []
          },
          "execution_count": 26
        }
      ]
    },
    {
      "cell_type": "markdown",
      "metadata": {
        "id": "BfiW7TqBNCUh"
      },
      "source": [
        "Resampling the datset in order to avoid class imbalance problem"
      ]
    },
    {
      "cell_type": "code",
      "metadata": {
        "id": "CSe-a2puU2gL",
        "outputId": "6f17e58e-b238-4f4f-9e42-114d8fe2baf0",
        "colab": {
          "base_uri": "https://localhost:8080/"
        }
      },
      "source": [
        "da_re = pd.concat([da[da['Severity']==4].sample(500000, replace = True, random_state=42),\n",
        "                   da[da['Severity']==3].sample(25000, random_state=42),\n",
        "                   da[da['Severity']==2].sample(250000, random_state=42),\n",
        "                   da[da['Severity']==1].sample(7500, replace = True, random_state=42)], axis=0)\n",
        "\n",
        "da_re[\"Severity\"].value_counts()"
      ],
      "execution_count": 27,
      "outputs": [
        {
          "output_type": "execute_result",
          "data": {
            "text/plain": [
              "4    500000\n",
              "2    250000\n",
              "3     25000\n",
              "1      7500\n",
              "Name: Severity, dtype: int64"
            ]
          },
          "metadata": {
            "tags": []
          },
          "execution_count": 27
        }
      ]
    },
    {
      "cell_type": "markdown",
      "metadata": {
        "id": "GNKJ5nF-WSaE"
      },
      "source": [
        "# <b>Model</b>"
      ]
    },
    {
      "cell_type": "markdown",
      "metadata": {
        "id": "_s6jxkv-Whqm"
      },
      "source": [
        "```\n",
        "1. Logistic Regression (Baseline)\n",
        "2. KNN Classifier\n",
        "3. SVM - runtime disconnected\n",
        "4. Decision Tree Classifier (Entropy, Gini)\n",
        "5. Random Forest Classifier - Best among all\n",
        "6. Neural Network MLP\n",
        "```\n",
        "\n",
        " > Cross validation tests on RFC utilised all the RAM completely and gave a segmentation fault\n"
      ]
    },
    {
      "cell_type": "code",
      "metadata": {
        "id": "jRvtPEGRU2dC"
      },
      "source": [
        "from sklearn.linear_model import LogisticRegression\n",
        "from sklearn.tree import DecisionTreeClassifier\n",
        "from sklearn.ensemble import RandomForestClassifier\n",
        "from sklearn.neighbors import KNeighborsClassifier\n",
        "from sklearn import svm\n",
        "from sklearn import neural_network\n",
        "\n",
        "import time\n",
        "from sklearn.model_selection import train_test_split, StratifiedKFold, cross_validate\n",
        "from sklearn.model_selection import GridSearchCV\n",
        "from sklearn.feature_selection import SelectFromModel\n",
        "from sklearn.metrics import classification_report\n",
        "from sklearn.metrics import confusion_matrix, accuracy_score, f1_score,plot_confusion_matrix, roc_curve, auc\n",
        "warnings.filterwarnings('ignore')\n",
        "\n",
        "cv_split = StratifiedKFold(n_splits = 10) #Cross vlidation checking, using K-fold\n",
        "plt.style.use('fivethirtyeight')\n",
        "sns.set(rc={'figure.figsize':(12,6)})"
      ],
      "execution_count": 28,
      "outputs": []
    },
    {
      "cell_type": "code",
      "metadata": {
        "id": "QYMCO0QkWWTK"
      },
      "source": [
        "X = da_re.drop('Severity',axis=1)\n",
        "y = da_re['Severity']\n",
        "\n",
        "from sklearn.model_selection import train_test_split\n",
        "X_train, X_test, y_train, y_test = train_test_split(X, y, test_size=0.20, random_state=42, stratify=y)\n",
        "class_names = list(y.unique())"
      ],
      "execution_count": 29,
      "outputs": []
    },
    {
      "cell_type": "code",
      "metadata": {
        "id": "nPtk5LnFjY-R"
      },
      "source": [
        "def check(y_test, y_pred, labels1):\n",
        "  print(classification_report(y_test, y_pred, labels = labels1))\n",
        "  acc = accuracy_score(y_test,y_pred)\n",
        "  f1 = f1_score(y_test,y_pred,average='weighted')\n",
        "  print(f\"Accuracy: {acc}\\nF1-score: {f1}\")\n",
        "\n",
        "def con_mat_plot(title1, model, X_test, y_test, labels1):\n",
        "  title = title1\n",
        "  disp = plot_confusion_matrix(model, X_test, y_test,\n",
        "                                 display_labels = labels1,\n",
        "                                 cmap=plt.cm.Blues)\n",
        "  disp.ax_.set_title(title)\n",
        "  print(title)\n",
        "  print(disp.confusion_matrix)\n",
        "  plt.grid(b=None)\n",
        "  plt.show()"
      ],
      "execution_count": 30,
      "outputs": []
    },
    {
      "cell_type": "markdown",
      "metadata": {
        "id": "cel-4WH0Ng1Q"
      },
      "source": [
        "### <b><h3>Logistic Regression (Baseline)</h3></b>"
      ]
    },
    {
      "cell_type": "code",
      "metadata": {
        "id": "WKDhb7CrWbDq",
        "outputId": "e9d9a4fd-681c-4fd4-9695-521d452e29cd",
        "colab": {
          "base_uri": "https://localhost:8080/"
        }
      },
      "source": [
        "lr = LogisticRegression(max_iter=100,random_state=42, verbose = 10)\n",
        "\n",
        "%time lr.fit(X_train,y_train)\n",
        "y_pred_lr = lr.predict(X_test)"
      ],
      "execution_count": 31,
      "outputs": [
        {
          "output_type": "stream",
          "text": [
            "[Parallel(n_jobs=1)]: Using backend SequentialBackend with 1 concurrent workers.\n"
          ],
          "name": "stderr"
        },
        {
          "output_type": "stream",
          "text": [
            "CPU times: user 1min 8s, sys: 17.6 s, total: 1min 26s\n",
            "Wall time: 51.7 s\n"
          ],
          "name": "stdout"
        },
        {
          "output_type": "stream",
          "text": [
            "[Parallel(n_jobs=1)]: Done   1 out of   1 | elapsed:   51.3s remaining:    0.0s\n",
            "[Parallel(n_jobs=1)]: Done   1 out of   1 | elapsed:   51.3s finished\n"
          ],
          "name": "stderr"
        }
      ]
    },
    {
      "cell_type": "code",
      "metadata": {
        "id": "qaOdzPuuTrNY",
        "outputId": "cdd76dcb-ef4d-4f6b-8afe-0f02ee2042e8",
        "colab": {
          "base_uri": "https://localhost:8080/"
        }
      },
      "source": [
        "check(y_test, y_pred_lr, da_re.Severity.unique().tolist())"
      ],
      "execution_count": 32,
      "outputs": [
        {
          "output_type": "stream",
          "text": [
            "              precision    recall  f1-score   support\n",
            "\n",
            "           4       0.67      0.88      0.76    100000\n",
            "           3       0.00      0.00      0.00      5000\n",
            "           2       0.48      0.24      0.32     50000\n",
            "           1       0.00      0.00      0.00      1500\n",
            "\n",
            "    accuracy                           0.64    156500\n",
            "   macro avg       0.29      0.28      0.27    156500\n",
            "weighted avg       0.58      0.64      0.59    156500\n",
            "\n",
            "Accuracy: 0.637482428115016\n",
            "F1-score: 0.5858502696107868\n"
          ],
          "name": "stdout"
        }
      ]
    },
    {
      "cell_type": "code",
      "metadata": {
        "id": "N3VNp-gWd1f3",
        "outputId": "5c154839-e791-4c8e-fe62-3885abf30730",
        "colab": {
          "base_uri": "https://localhost:8080/",
          "height": 524
        }
      },
      "source": [
        "con_mat_plot('Logistic Regression Confusion Matrix', lr, X_test, y_test, class_names.sort())"
      ],
      "execution_count": 33,
      "outputs": [
        {
          "output_type": "stream",
          "text": [
            "Logistic Regression Confusion Matrix\n",
            "[[    0   142     0  1358]\n",
            " [    0 11792     0 38208]\n",
            " [    0   694     0  4306]\n",
            " [    0 12026     0 87974]]\n"
          ],
          "name": "stdout"
        },
        {
          "output_type": "display_data",
          "data": {
            "image/png": "[encoded data removed]",
            "text/plain": [
              "<Figure size 864x432 with 2 Axes>"
            ]
          },
          "metadata": {
            "tags": []
          }
        }
      ]
    },
    {
      "cell_type": "code",
      "metadata": {
        "id": "J2F6E7sPe2Nz",
        "outputId": "15d5fe8e-a0dd-416d-8350-6cdec69fdd8d",
        "colab": {
          "base_uri": "https://localhost:8080/"
        }
      },
      "source": [
        "cv_results = cross_validate(lr, X, y, cv = cv_split,verbose=5,n_jobs=-1,\n",
        "                           scoring=('accuracy', 'f1_weighted'),\n",
        "                           return_train_score = True)"
      ],
      "execution_count": 34,
      "outputs": [
        {
          "output_type": "stream",
          "text": [
            "[Parallel(n_jobs=-1)]: Using backend LokyBackend with 2 concurrent workers.\n",
            "[Parallel(n_jobs=-1)]: Done  10 out of  10 | elapsed:  6.6min remaining:    0.0s\n",
            "[Parallel(n_jobs=-1)]: Done  10 out of  10 | elapsed:  6.6min finished\n"
          ],
          "name": "stderr"
        }
      ]
    },
    {
      "cell_type": "code",
      "metadata": {
        "id": "MPTyjJ3ce8Zn",
        "outputId": "2c55af40-5018-46a1-bedd-81ae30a08b67",
        "colab": {
          "base_uri": "https://localhost:8080/"
        }
      },
      "source": [
        "print(f\"Average Fit Time: {cv_results['fit_time'].mean()} seconds\")\n",
        "print(f\"Average Train Accuracy: {cv_results['train_accuracy'].mean()*100} %\")\n",
        "print(f\"Average Test Accuracy: {cv_results['test_accuracy'].mean()*100} %\")\n",
        "print(f\"Average Train F1_Score: {cv_results['train_f1_weighted'].mean()*100} %\")\n",
        "print(f\"Average Test F1_Score: {cv_results['test_f1_weighted'].mean()*100} %\")"
      ],
      "execution_count": 35,
      "outputs": [
        {
          "output_type": "stream",
          "text": [
            "Average Fit Time: 78.1673297405243 seconds\n",
            "Average Train Accuracy: 63.82023429179979 %\n",
            "Average Test Accuracy: 63.832971246006394 %\n",
            "Average Train F1_Score: 58.4005349024529 %\n",
            "Average Test F1_Score: 58.41287926223346 %\n"
          ],
          "name": "stdout"
        }
      ]
    },
    {
      "cell_type": "markdown",
      "metadata": {
        "id": "Uwa2Vw_uXW9N"
      },
      "source": [
        "### <b><h3>KNN Classifier</h3></b>"
      ]
    },
    {
      "cell_type": "code",
      "metadata": {
        "id": "LC1FsOuWXdVX",
        "outputId": "3018270a-4b27-4c5f-d907-d42391cbf52d",
        "colab": {
          "base_uri": "https://localhost:8080/"
        }
      },
      "source": [
        "knn = KNeighborsClassifier(n_neighbors = 6,n_jobs=-1)\n",
        "\n",
        "%time knn.fit(X_train,y_train)\n",
        "y_pred_knn = knn.predict(X_test)"
      ],
      "execution_count": 36,
      "outputs": [
        {
          "output_type": "stream",
          "text": [
            "CPU times: user 14.1 s, sys: 123 ms, total: 14.2 s\n",
            "Wall time: 14.2 s\n"
          ],
          "name": "stdout"
        }
      ]
    },
    {
      "cell_type": "code",
      "metadata": {
        "id": "ualQYv0uXrDR",
        "outputId": "87130f00-8626-4719-c184-b4274ef63a5d",
        "colab": {
          "base_uri": "https://localhost:8080/"
        }
      },
      "source": [
        "check(y_test, y_pred_knn, da_re.Severity.unique().tolist())"
      ],
      "execution_count": 37,
      "outputs": [
        {
          "output_type": "stream",
          "text": [
            "              precision    recall  f1-score   support\n",
            "\n",
            "           4       0.86      0.94      0.90    100000\n",
            "           3       0.28      0.05      0.08      5000\n",
            "           2       0.81      0.74      0.77     50000\n",
            "           1       0.38      0.19      0.25      1500\n",
            "\n",
            "    accuracy                           0.84    156500\n",
            "   macro avg       0.58      0.48      0.50    156500\n",
            "weighted avg       0.82      0.84      0.83    156500\n",
            "\n",
            "Accuracy: 0.8402428115015974\n",
            "F1-score: 0.8260415453448573\n"
          ],
          "name": "stdout"
        }
      ]
    },
    {
      "cell_type": "code",
      "metadata": {
        "id": "pNT5REsKeR8j",
        "outputId": "5a6c9059-3165-48d7-98e9-46c56af14b51",
        "colab": {
          "base_uri": "https://localhost:8080/",
          "height": 524
        }
      },
      "source": [
        "con_mat_plot('KNN Confusion Matrix', knn, X_test, y_test, class_names.sort())"
      ],
      "execution_count": 38,
      "outputs": [
        {
          "output_type": "stream",
          "text": [
            "KNN Confusion Matrix\n",
            "[[  286   536     8   670]\n",
            " [  285 36858   415 12442]\n",
            " [   29  2303   240  2428]\n",
            " [  148  5532   206 94114]]\n"
          ],
          "name": "stdout"
        },
        {
          "output_type": "display_data",
          "data": {
            "image/png": "[encoded data removed]",
            "text/plain": [
              "<Figure size 864x432 with 2 Axes>"
            ]
          },
          "metadata": {
            "tags": []
          }
        }
      ]
    },
    {
      "cell_type": "markdown",
      "metadata": {
        "id": "fKEHwEbchxvC"
      },
      "source": [
        "### SVM"
      ]
    },
    {
      "cell_type": "markdown",
      "metadata": {
        "id": "nFassa4JtDcT"
      },
      "source": [
        "takes a lot of time, runtime disconnected"
      ]
    },
    {
      "cell_type": "code",
      "metadata": {
        "id": "ugEhYeCHhzkx",
        "outputId": "a199eb6b-dc51-4886-c3fc-b47c3ce8a421",
        "colab": {
          "base_uri": "https://localhost:8080/",
          "height": 36
        }
      },
      "source": [
        "'''\n",
        "svm = svm.SVC(gamma='auto', verbose = 1)\n",
        "\n",
        "%time svm.fit(X_train, y_train)\n",
        "y_pred_svm = svm.predict(X_test)\n",
        "'''"
      ],
      "execution_count": 39,
      "outputs": [
        {
          "output_type": "execute_result",
          "data": {
            "application/vnd.google.colaboratory.intrinsic+json": {
              "type": "string"
            },
            "text/plain": [
              "\"\\nsvm = svm.SVC(gamma='auto', verbose = 1)\\n\\n%time svm.fit(X_train, y_train)\\ny_pred_svm = svm.predict(X_test)\\n\""
            ]
          },
          "metadata": {
            "tags": []
          },
          "execution_count": 39
        }
      ]
    },
    {
      "cell_type": "code",
      "metadata": {
        "id": "yJlMN0S0l7Go"
      },
      "source": [
        "#check(y_test, y_pred_svm, da_re.Severity.unique().tolist())"
      ],
      "execution_count": 40,
      "outputs": []
    },
    {
      "cell_type": "code",
      "metadata": {
        "id": "oTJJARs5l_NH"
      },
      "source": [
        "#con_mat_plot('SVM Confusion Matrix', svm, X_test, y_test, class_names.sort())"
      ],
      "execution_count": 41,
      "outputs": []
    },
    {
      "cell_type": "markdown",
      "metadata": {
        "id": "7eGpdNqzOHXw"
      },
      "source": [
        "### <b><h3>Decision Tree Classifier</h3></b>"
      ]
    },
    {
      "cell_type": "code",
      "metadata": {
        "id": "67fYh-PoWeii",
        "outputId": "86f09c6b-6ac8-4c19-a747-a8a308a9b2d7",
        "colab": {
          "base_uri": "https://localhost:8080/"
        }
      },
      "source": [
        "dtc_entropy = DecisionTreeClassifier(criterion='entropy')\n",
        "dtc_gini = DecisionTreeClassifier(criterion='gini')\n",
        "\n",
        "%time dtc_entropy.fit(X_train, y_train)\n",
        "y_pred_dtc_entropy= dtc_entropy.predict(X_test)\n",
        "\n",
        "%time dtc_gini.fit(X_train, y_train)\n",
        "y_pred_dtc_gini = dtc_gini.predict(X_test)"
      ],
      "execution_count": 42,
      "outputs": [
        {
          "output_type": "stream",
          "text": [
            "CPU times: user 18.2 s, sys: 32.4 ms, total: 18.2 s\n",
            "Wall time: 18.2 s\n",
            "CPU times: user 18.1 s, sys: 7.29 ms, total: 18.1 s\n",
            "Wall time: 18.1 s\n"
          ],
          "name": "stdout"
        }
      ]
    },
    {
      "cell_type": "code",
      "metadata": {
        "id": "pCR9TAxgTfSu",
        "outputId": "a0fb7f21-3b09-4584-9a38-05c78c9e3eef",
        "colab": {
          "base_uri": "https://localhost:8080/"
        }
      },
      "source": [
        "print(\"DTC_ENTROPY\")\n",
        "check(y_test, y_pred_dtc_entropy, da_re.Severity.unique().tolist())\n",
        "\n",
        "\n",
        "print(\"\\nDTC_GINI\")\n",
        "check(y_test, y_pred_dtc_gini, da_re.Severity.unique().tolist())"
      ],
      "execution_count": 43,
      "outputs": [
        {
          "output_type": "stream",
          "text": [
            "DTC_ENTROPY\n",
            "              precision    recall  f1-score   support\n",
            "\n",
            "           4       0.93      0.99      0.96    100000\n",
            "           3       0.25      0.20      0.22      5000\n",
            "           2       0.92      0.81      0.86     50000\n",
            "           1       0.55      0.55      0.55      1500\n",
            "\n",
            "    accuracy                           0.91    156500\n",
            "   macro avg       0.66      0.64      0.65    156500\n",
            "weighted avg       0.90      0.91      0.90    156500\n",
            "\n",
            "Accuracy: 0.9057635782747604\n",
            "F1-score: 0.9016182094584948\n",
            "\n",
            "DTC_GINI\n",
            "              precision    recall  f1-score   support\n",
            "\n",
            "           4       0.93      0.99      0.96    100000\n",
            "           3       0.24      0.20      0.21      5000\n",
            "           2       0.92      0.81      0.86     50000\n",
            "           1       0.53      0.53      0.53      1500\n",
            "\n",
            "    accuracy                           0.90    156500\n",
            "   macro avg       0.65      0.63      0.64    156500\n",
            "weighted avg       0.90      0.90      0.90    156500\n",
            "\n",
            "Accuracy: 0.9035399361022364\n",
            "F1-score: 0.8995833135235403\n"
          ],
          "name": "stdout"
        }
      ]
    },
    {
      "cell_type": "code",
      "metadata": {
        "id": "-ru49d50efu1",
        "outputId": "03445b63-e1be-4931-a926-e7aa278ab115",
        "colab": {
          "base_uri": "https://localhost:8080/",
          "height": 524
        }
      },
      "source": [
        "con_mat_plot('Decision Tree - Gini Matrix', dtc_gini, X_test, y_test, class_names.sort())"
      ],
      "execution_count": 44,
      "outputs": [
        {
          "output_type": "stream",
          "text": [
            "Decision Tree - Gini Matrix\n",
            "[[  796   435    47   222]\n",
            " [  604 40351  3009  6036]\n",
            " [   64  2581   983  1372]\n",
            " [   24   579   123 99274]]\n"
          ],
          "name": "stdout"
        },
        {
          "output_type": "display_data",
          "data": {
            "image/png": "[encoded data removed]",
            "text/plain": [
              "<Figure size 864x432 with 2 Axes>"
            ]
          },
          "metadata": {
            "tags": []
          }
        }
      ]
    },
    {
      "cell_type": "markdown",
      "metadata": {
        "id": "1YJGezb-RhFI"
      },
      "source": [
        "### <b><h3>Random Forest Classifier</h3></b>"
      ]
    },
    {
      "cell_type": "code",
      "metadata": {
        "id": "jG1PiPomXHxq",
        "outputId": "a979c11b-fbcc-4f36-b6f2-c34d97d9cd4e",
        "colab": {
          "base_uri": "https://localhost:8080/"
        }
      },
      "source": [
        "rfc = RandomForestClassifier(n_estimators=150)\n",
        "\n",
        "%time rfc.fit(X_train,y_train)\n",
        "y_pred_rfc = rfc.predict(X_test)"
      ],
      "execution_count": 45,
      "outputs": [
        {
          "output_type": "stream",
          "text": [
            "CPU times: user 4min 40s, sys: 1.24 s, total: 4min 41s\n",
            "Wall time: 4min 41s\n"
          ],
          "name": "stdout"
        }
      ]
    },
    {
      "cell_type": "code",
      "metadata": {
        "id": "y3BFK9WSS-__",
        "outputId": "ae244218-e6f7-436e-aeb4-110d98470351",
        "colab": {
          "base_uri": "https://localhost:8080/"
        }
      },
      "source": [
        "check(y_test, y_pred_rfc, da_re.Severity.unique().tolist())"
      ],
      "execution_count": 46,
      "outputs": [
        {
          "output_type": "stream",
          "text": [
            "              precision    recall  f1-score   support\n",
            "\n",
            "           4       0.94      1.00      0.97    100000\n",
            "           3       0.51      0.01      0.02      5000\n",
            "           2       0.91      0.90      0.91     50000\n",
            "           1       0.90      0.50      0.65      1500\n",
            "\n",
            "    accuracy                           0.93    156500\n",
            "   macro avg       0.82      0.60      0.64    156500\n",
            "weighted avg       0.92      0.93      0.91    156500\n",
            "\n",
            "Accuracy: 0.929667731629393\n",
            "F1-score: 0.9141670878933571\n"
          ],
          "name": "stdout"
        }
      ]
    },
    {
      "cell_type": "code",
      "metadata": {
        "id": "zTqxCTa2ejSE",
        "outputId": "cdb1aaa2-57bc-42ff-ecbe-d9bbb469c57c",
        "colab": {
          "base_uri": "https://localhost:8080/",
          "height": 524
        }
      },
      "source": [
        "con_mat_plot('Random Forest Classifier Confusion Matrix', rfc, X_test, y_test, class_names.sort())"
      ],
      "execution_count": 47,
      "outputs": [
        {
          "output_type": "stream",
          "text": [
            "Random Forest Classifier Confusion Matrix\n",
            "[[  753   498     1   248]\n",
            " [   73 45105    54  4768]\n",
            " [    3  3332    60  1605]\n",
            " [    5   417     3 99575]]\n"
          ],
          "name": "stdout"
        },
        {
          "output_type": "display_data",
          "data": {
            "image/png": "[encoded data removed]",
            "text/plain": [
              "<Figure size 864x432 with 2 Axes>"
            ]
          },
          "metadata": {
            "tags": []
          }
        }
      ]
    },
    {
      "cell_type": "markdown",
      "metadata": {
        "id": "K7RmGhASpSC_"
      },
      "source": [
        "### Neural Network MLP"
      ]
    },
    {
      "cell_type": "code",
      "metadata": {
        "id": "g11ADJUnerEU"
      },
      "source": [
        "nn = neural_network.MLPClassifier(hidden_layer_sizes=(10, 5, 2), max_iter = 100, verbose = 1, learning_rate='adaptive')\n",
        "\n",
        "%time nn.fit(X_train,y_train)\n",
        "y_pred_nn = nn.predict(X_test)"
      ],
      "execution_count": null,
      "outputs": []
    },
    {
      "cell_type": "code",
      "metadata": {
        "id": "_K0KwhB9pseI",
        "outputId": "1003c63e-8c8a-413e-acd0-26e864ac7740",
        "colab": {
          "base_uri": "https://localhost:8080/"
        }
      },
      "source": [
        "check(y_test, y_pred_nn, da_re.Severity.unique().tolist())"
      ],
      "execution_count": 55,
      "outputs": [
        {
          "output_type": "stream",
          "text": [
            "              precision    recall  f1-score   support\n",
            "\n",
            "           4       0.64      1.00      0.78    100000\n",
            "           3       0.00      0.00      0.00      5000\n",
            "           2       0.00      0.00      0.00     50000\n",
            "           1       0.00      0.00      0.00      1500\n",
            "\n",
            "    accuracy                           0.64    156500\n",
            "   macro avg       0.16      0.25      0.19    156500\n",
            "weighted avg       0.41      0.64      0.50    156500\n",
            "\n",
            "Accuracy: 0.6389776357827476\n",
            "F1-score: 0.49822817604892605\n"
          ],
          "name": "stdout"
        }
      ]
    },
    {
      "cell_type": "code",
      "metadata": {
        "id": "zTJA3lu2psVT",
        "outputId": "5ff8216b-10de-46a9-a30b-86d62417a1a7",
        "colab": {
          "base_uri": "https://localhost:8080/",
          "height": 524
        }
      },
      "source": [
        "con_mat_plot('Neural Network MLP Confusion Matrix', nn, X_test, y_test, class_names.sort())"
      ],
      "execution_count": 57,
      "outputs": [
        {
          "output_type": "stream",
          "text": [
            "Neural Network MLP Confusion Matrix\n",
            "[[     0      0      0   1500]\n",
            " [     0      0      0  50000]\n",
            " [     0      0      0   5000]\n",
            " [     0      0      0 100000]]\n"
          ],
          "name": "stdout"
        },
        {
          "output_type": "display_data",
          "data": {
            "image/png": "[encoded data removed]",
            "text/plain": [
              "<Figure size 864x432 with 2 Axes>"
            ]
          },
          "metadata": {
            "tags": []
          }
        }
      ]
    },
    {
      "cell_type": "code",
      "metadata": {
        "id": "YZ7WvEMez3pv"
      },
      "source": [
        ""
      ],
      "execution_count": null,
      "outputs": []
    }
  ]
}