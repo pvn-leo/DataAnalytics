{
 "cells": [
  {
   "cell_type": "markdown",
   "metadata": {
    "colab_type": "text",
    "id": "view-in-github"
   },
   "source": [
    "<a href=\"https://colab.research.google.com/github/pvn-leo/DataAnalytics/blob/master/EndToEnd.ipynb\" target=\"_parent\"><img src=\"https://colab.research.google.com/assets/colab-badge.svg\" alt=\"Open In Colab\"/></a>"
   ]
  },
  {
   "cell_type": "code",
   "execution_count": 1,
   "metadata": {
    "colab": {
     "base_uri": "https://localhost:8080/"
    },
    "id": "Vm4O7RihDoOi",
    "outputId": "02b576cc-50e5-4610-bcfb-a48f62a08fdc"
   },
   "outputs": [
    {
     "name": "stdout",
     "output_type": "stream",
     "text": [
      "Mounted at /content/drive\n"
     ]
    }
   ],
   "source": [
    "from google.colab import drive\n",
    "drive.mount('/content/drive',force_remount = True)"
   ]
  },
  {
   "cell_type": "markdown",
   "metadata": {
    "id": "llHu9dqxH4Bq"
   },
   "source": [
    "# Inits + Imports"
   ]
  },
  {
   "cell_type": "code",
   "execution_count": 2,
   "metadata": {
    "colab": {
     "base_uri": "https://localhost:8080/"
    },
    "id": "V9j5Gc-_Ish2",
    "outputId": "e51c1bc5-0892-43b6-8453-e9504905cdfb"
   },
   "outputs": [
    {
     "name": "stdout",
     "output_type": "stream",
     "text": [
      "/root\n"
     ]
    }
   ],
   "source": [
    "cd"
   ]
  },
  {
   "cell_type": "code",
   "execution_count": 3,
   "metadata": {
    "colab": {
     "base_uri": "https://localhost:8080/"
    },
    "id": "XyQtm3WbIt6v",
    "outputId": "70ded51b-a6fa-4557-e7bb-be1a074e94bb"
   },
   "outputs": [
    {
     "name": "stdout",
     "output_type": "stream",
     "text": [
      "/content/drive/My Drive/da5\n"
     ]
    }
   ],
   "source": [
    "cd /content/drive/My Drive/da5"
   ]
  },
  {
   "cell_type": "code",
   "execution_count": 1,
   "metadata": {
    "id": "k8GTJDhzJ2yT"
   },
   "outputs": [],
   "source": [
    "import pandas as pd\n",
    "import numpy as np\n",
    "import matplotlib.pyplot as plt\n",
    "import seaborn as sns\n",
    "import warnings\n",
    "import time"
   ]
  },
  {
   "cell_type": "code",
   "execution_count": 2,
   "metadata": {
    "id": "HWVsYy_YIvHY"
   },
   "outputs": [],
   "source": [
    "df = pd.read_csv('./US_Accidents_June20.csv')\n",
    "#df.columns = map(str.lower, df.columns)"
   ]
  },
  {
   "cell_type": "code",
   "execution_count": 3,
   "metadata": {
    "id": "95Flw8-uJwbv"
   },
   "outputs": [],
   "source": [
    "df['Start_Time'] = pd.to_datetime(df['Start_Time'])\n",
    "df['End_Time'] = pd.to_datetime(df['End_Time'])\n",
    "df['Month'] = df['Start_Time'].dt.month\n",
    "df['Year'] = df['Start_Time'].dt.year\n",
    "df['Hour'] = df['Start_Time'].dt.hour\n",
    "df['Weekday'] = df['Start_Time'].dt.weekday\n",
    "df['Duration'] = (df['End_Time'] - df['Start_Time']).dt.total_seconds()/60\n",
    "#dropping duplicates + duration= [0,1] week\n",
    "oneweek = 7 * 24 * 60"
   ]
  },
  {
   "cell_type": "code",
   "execution_count": 4,
   "metadata": {
    "id": "t8zfTIWoHykj"
   },
   "outputs": [],
   "source": [
    "df_clean = df[(df['Duration']>0) & (df['Duration']< oneweek)].drop_duplicates(subset=['Start_Time','End_Time','City','Street','Number','Description'])"
   ]
  },
  {
   "cell_type": "markdown",
   "metadata": {
    "id": "l8NyQ9mwN5TK"
   },
   "source": [
    "# <b>Cleaning</b>"
   ]
  },
  {
   "cell_type": "markdown",
   "metadata": {
    "id": "qu53lzkhVGcP"
   },
   "source": [
    "### Dropping columns"
   ]
  },
  {
   "cell_type": "markdown",
   "metadata": {
    "id": "mLKzVtf2Pad8"
   },
   "source": [
    "<b> Reasons for dropping the respective columns:</b>  \n",
    "1. ```Source``` - Just because an accident was reported by a particular source doesn't influence the accident in no way.\n",
    "2. ```ID``` - Being a unique number for an accident has no impact on accident  \n",
    "3. ```TMC``` - Inferred attribute from accident\n",
    "4. ```Description``` - Inferred attribute from accident\n",
    "5. ```Distance(mi)``` - the length of road affected by road accident doesn't really influence accident causation and they are inferred attributes.\n",
    "6. ```End_Time``` - obtained only after accident occurs (we already have the timestamp)\n",
    "7. ```End_Lat``` - obtained only after accident occurs (we already have start_lat and start_lng)\n",
    "8. ```End_Lng``` - obtained only after accident occurs\n",
    "9. ```Country``` - univalued i.e 'US'\n",
    "10. ```Turning_Loop``` - univalued i.e 'false'\n",
    "11. ```Weather_Timestamp``` - Timestamped data, talks more about weather observation time, rather than giving insights on accident occurences\n"
   ]
  },
  {
   "cell_type": "code",
   "execution_count": 5,
   "metadata": {
    "id": "nU1qb-DxLFL-"
   },
   "outputs": [],
   "source": [
    "df_clean = df_clean.drop(['Source', 'ID','TMC','Description', 'Distance(mi)','Duration', 'End_Time', 'End_Lat', 'End_Lng', 'Country','Turning_Loop', 'Weather_Timestamp' ], axis=1)\n",
    "#df_clean = df_clean.drop(['Number','Wind_Chill(F)'], axis=1) done in the next"
   ]
  },
  {
   "cell_type": "markdown",
   "metadata": {
    "id": "Rs3yzgx7VWCV"
   },
   "source": [
    "### Missing data"
   ]
  },
  {
   "cell_type": "markdown",
   "metadata": {
    "id": "4uIoiDPj2obR"
   },
   "source": [
    "12. ```Number``` -  64.4% missing data\n",
    "13. ```Wind_Chill``` - 53.3% missing data\n",
    "14. ```Precipitation(in)``` - 57.8% missing data"
   ]
  },
  {
   "cell_type": "code",
   "execution_count": 6,
   "metadata": {
    "id": "n4DLcImSNI1c"
   },
   "outputs": [],
   "source": [
    "def missing_values_table(df):\n",
    "        mis_val = df.isnull().sum()\n",
    "        mis_val_percent = 100 * df.isnull().sum() / len(df)\n",
    "        mis_val_table = pd.concat([mis_val, mis_val_percent], axis=1)\n",
    "        mis_val_table_ren_columns = mis_val_table.rename(\n",
    "        columns = {0 : 'Missing Values', 1 : '% of Total Values'})\n",
    "        mis_val_table_ren_columns = mis_val_table_ren_columns[\n",
    "            mis_val_table_ren_columns.iloc[:,1] != 0].sort_values(\n",
    "        '% of Total Values', ascending=False).round(1)\n",
    "        print (\"The dataframe has \" + str(df.shape[1]) + \" columns.\\n\"      \n",
    "            \"There are \" + str(mis_val_table_ren_columns.shape[0]) +\n",
    "              \" columns that have missing values.\")\n",
    "        return mis_val_table_ren_columns\n",
    "        "
   ]
  },
  {
   "cell_type": "code",
   "execution_count": 7,
   "metadata": {
    "colab": {
     "base_uri": "https://localhost:8080/",
     "height": 649
    },
    "id": "S2d3MuimNfkw",
    "outputId": "23b7e692-87c0-4d66-de54-d23c577ca4f6"
   },
   "outputs": [
    {
     "name": "stdout",
     "output_type": "stream",
     "text": [
      "The dataframe has 42 columns.\n",
      "There are 18 columns that have missing values.\n"
     ]
    },
    {
     "data": {
      "text/html": [
       "<div>\n",
       "<style scoped>\n",
       "    .dataframe tbody tr th:only-of-type {\n",
       "        vertical-align: middle;\n",
       "    }\n",
       "\n",
       "    .dataframe tbody tr th {\n",
       "        vertical-align: top;\n",
       "    }\n",
       "\n",
       "    .dataframe thead th {\n",
       "        text-align: right;\n",
       "    }\n",
       "</style>\n",
       "<table border=\"1\" class=\"dataframe\">\n",
       "  <thead>\n",
       "    <tr style=\"text-align: right;\">\n",
       "      <th></th>\n",
       "      <th>Missing Values</th>\n",
       "      <th>% of Total Values</th>\n",
       "    </tr>\n",
       "  </thead>\n",
       "  <tbody>\n",
       "    <tr>\n",
       "      <th>Number</th>\n",
       "      <td>2249747</td>\n",
       "      <td>64.4</td>\n",
       "    </tr>\n",
       "    <tr>\n",
       "      <th>Precipitation(in)</th>\n",
       "      <td>2017879</td>\n",
       "      <td>57.8</td>\n",
       "    </tr>\n",
       "    <tr>\n",
       "      <th>Wind_Chill(F)</th>\n",
       "      <td>1860561</td>\n",
       "      <td>53.3</td>\n",
       "    </tr>\n",
       "    <tr>\n",
       "      <th>Wind_Speed(mph)</th>\n",
       "      <td>452590</td>\n",
       "      <td>13.0</td>\n",
       "    </tr>\n",
       "    <tr>\n",
       "      <th>Weather_Condition</th>\n",
       "      <td>75443</td>\n",
       "      <td>2.2</td>\n",
       "    </tr>\n",
       "    <tr>\n",
       "      <th>Visibility(mi)</th>\n",
       "      <td>75159</td>\n",
       "      <td>2.2</td>\n",
       "    </tr>\n",
       "    <tr>\n",
       "      <th>Humidity(%)</th>\n",
       "      <td>69195</td>\n",
       "      <td>2.0</td>\n",
       "    </tr>\n",
       "    <tr>\n",
       "      <th>Temperature(F)</th>\n",
       "      <td>65270</td>\n",
       "      <td>1.9</td>\n",
       "    </tr>\n",
       "    <tr>\n",
       "      <th>Wind_Direction</th>\n",
       "      <td>58145</td>\n",
       "      <td>1.7</td>\n",
       "    </tr>\n",
       "    <tr>\n",
       "      <th>Pressure(in)</th>\n",
       "      <td>55492</td>\n",
       "      <td>1.6</td>\n",
       "    </tr>\n",
       "    <tr>\n",
       "      <th>Airport_Code</th>\n",
       "      <td>6679</td>\n",
       "      <td>0.2</td>\n",
       "    </tr>\n",
       "    <tr>\n",
       "      <th>Timezone</th>\n",
       "      <td>3805</td>\n",
       "      <td>0.1</td>\n",
       "    </tr>\n",
       "    <tr>\n",
       "      <th>Zipcode</th>\n",
       "      <td>1004</td>\n",
       "      <td>0.0</td>\n",
       "    </tr>\n",
       "    <tr>\n",
       "      <th>Sunrise_Sunset</th>\n",
       "      <td>113</td>\n",
       "      <td>0.0</td>\n",
       "    </tr>\n",
       "    <tr>\n",
       "      <th>Civil_Twilight</th>\n",
       "      <td>113</td>\n",
       "      <td>0.0</td>\n",
       "    </tr>\n",
       "    <tr>\n",
       "      <th>Nautical_Twilight</th>\n",
       "      <td>113</td>\n",
       "      <td>0.0</td>\n",
       "    </tr>\n",
       "    <tr>\n",
       "      <th>Astronomical_Twilight</th>\n",
       "      <td>113</td>\n",
       "      <td>0.0</td>\n",
       "    </tr>\n",
       "    <tr>\n",
       "      <th>City</th>\n",
       "      <td>110</td>\n",
       "      <td>0.0</td>\n",
       "    </tr>\n",
       "  </tbody>\n",
       "</table>\n",
       "</div>"
      ],
      "text/plain": [
       "                       Missing Values  % of Total Values\n",
       "Number                        2249747               64.4\n",
       "Precipitation(in)             2017879               57.8\n",
       "Wind_Chill(F)                 1860561               53.3\n",
       "Wind_Speed(mph)                452590               13.0\n",
       "Weather_Condition               75443                2.2\n",
       "Visibility(mi)                  75159                2.2\n",
       "Humidity(%)                     69195                2.0\n",
       "Temperature(F)                  65270                1.9\n",
       "Wind_Direction                  58145                1.7\n",
       "Pressure(in)                    55492                1.6\n",
       "Airport_Code                     6679                0.2\n",
       "Timezone                         3805                0.1\n",
       "Zipcode                          1004                0.0\n",
       "Sunrise_Sunset                    113                0.0\n",
       "Civil_Twilight                    113                0.0\n",
       "Nautical_Twilight                 113                0.0\n",
       "Astronomical_Twilight             113                0.0\n",
       "City                              110                0.0"
      ]
     },
     "execution_count": 7,
     "metadata": {},
     "output_type": "execute_result"
    }
   ],
   "source": [
    "missing_values_table(df_clean)"
   ]
  },
  {
   "cell_type": "code",
   "execution_count": 8,
   "metadata": {
    "id": "sunU7TFTNiF8"
   },
   "outputs": [],
   "source": [
    "#drop 'Number' and 'Wind_Chill(F)' since missing value % > 50\n",
    "df_clean = df_clean.drop(['Number','Wind_Chill(F)'], axis=1)\n",
    "df_clean = df_clean.drop(['Precipitation(in)'], axis = 1 )"
   ]
  },
  {
   "cell_type": "code",
   "execution_count": 9,
   "metadata": {
    "id": "ckdLmLqsBnFh"
   },
   "outputs": [],
   "source": [
    "#For all those attributes with < 50% the method used is dropna() where null rows are just dropped. Ignoring such columns as a whole will immensely impact predictions\n",
    "df_clean = df_clean.dropna(subset=['City','Astronomical_Twilight','Nautical_Twilight', 'Civil_Twilight', 'Sunrise_Sunset', 'Zipcode','Timezone','Airport_Code'])"
   ]
  },
  {
   "cell_type": "markdown",
   "metadata": {
    "id": "Vj6D_JruDq1f"
   },
   "source": [
    "### Imputations"
   ]
  },
  {
   "cell_type": "markdown",
   "metadata": {
    "id": "ESzXGF5FdW45"
   },
   "source": [
    "Mean imputations   (continous) - ```Temperature(F), Pressure(in), Humidity(%)```  \n",
    "Median imputations (continous) - ```Visibility(mi), Wind_Speed(mph)```  \n",
    "Modal imputations  (categorical)  - ```Weather_Codition, Wind_Direction```"
   ]
  },
  {
   "cell_type": "code",
   "execution_count": 10,
   "metadata": {
    "id": "1aKAUJjxDPVW"
   },
   "outputs": [],
   "source": [
    "#Mean/Median imputations\n",
    "df_clean['Temperature(F)'] = df_clean['Temperature(F)'].fillna((df_clean['Temperature(F)'].mean()))\n",
    "df_clean['Pressure(in)'] = df_clean['Pressure(in)'].fillna((df_clean['Pressure(in)'].mean()))\n",
    "df_clean['Humidity(%)'] = df_clean['Humidity(%)'].fillna((df_clean['Humidity(%)'].mean()))\n",
    "df_clean['Visibility(mi)'] = df_clean['Visibility(mi)'].fillna((df_clean['Visibility(mi)'].median()))\n",
    "df_clean['Wind_Speed(mph)'] = df_clean['Wind_Speed(mph)'].fillna((df_clean['Wind_Speed(mph)'].median()))"
   ]
  },
  {
   "cell_type": "code",
   "execution_count": 11,
   "metadata": {
    "id": "FaMcmKh7fNjg"
   },
   "outputs": [],
   "source": [
    "#modal imputations\n",
    "weather_cond_mode = (df_clean['Weather_Condition'].mode())\n",
    "df_clean[\"Weather_Condition\"].fillna(weather_cond_mode[0], inplace=True)\n",
    "\n",
    "weather_cond_mode = (df_clean['Wind_Direction'].mode())\n",
    "df_clean[\"Wind_Direction\"].fillna(weather_cond_mode[0], inplace=True)"
   ]
  },
  {
   "cell_type": "code",
   "execution_count": 12,
   "metadata": {
    "colab": {
     "base_uri": "https://localhost:8080/",
     "height": 84
    },
    "id": "maezWCHlDh42",
    "outputId": "5c3f372e-f50e-41cd-8753-ba585a3e23ad"
   },
   "outputs": [
    {
     "name": "stdout",
     "output_type": "stream",
     "text": [
      "The dataframe has 39 columns.\n",
      "There are 0 columns that have missing values.\n"
     ]
    },
    {
     "data": {
      "text/html": [
       "<div>\n",
       "<style scoped>\n",
       "    .dataframe tbody tr th:only-of-type {\n",
       "        vertical-align: middle;\n",
       "    }\n",
       "\n",
       "    .dataframe tbody tr th {\n",
       "        vertical-align: top;\n",
       "    }\n",
       "\n",
       "    .dataframe thead th {\n",
       "        text-align: right;\n",
       "    }\n",
       "</style>\n",
       "<table border=\"1\" class=\"dataframe\">\n",
       "  <thead>\n",
       "    <tr style=\"text-align: right;\">\n",
       "      <th></th>\n",
       "      <th>Missing Values</th>\n",
       "      <th>% of Total Values</th>\n",
       "    </tr>\n",
       "  </thead>\n",
       "  <tbody>\n",
       "  </tbody>\n",
       "</table>\n",
       "</div>"
      ],
      "text/plain": [
       "Empty DataFrame\n",
       "Columns: [Missing Values, % of Total Values]\n",
       "Index: []"
      ]
     },
     "execution_count": 12,
     "metadata": {},
     "output_type": "execute_result"
    }
   ],
   "source": [
    "missing_values_table(df_clean)"
   ]
  },
  {
   "cell_type": "markdown",
   "metadata": {
    "id": "x__gbWiu25So"
   },
   "source": [
    "### Dropping some more columns"
   ]
  },
  {
   "cell_type": "code",
   "execution_count": 13,
   "metadata": {
    "colab": {
     "base_uri": "https://localhost:8080/",
     "height": 711
    },
    "id": "WI52_kHSh9Ce",
    "outputId": "2080fcfd-4a74-43ed-a78f-bad630185f52"
   },
   "outputs": [
    {
     "data": {
      "image/png": "[encoded data removed]",
      "text/plain": [
       "<Figure size 1080x720 with 12 Axes>"
      ]
     },
     "metadata": {
      "needs_background": "light"
     },
     "output_type": "display_data"
    }
   ],
   "source": [
    "#POI Features from kaggle website https://www.kaggle.com/sobhanmoosavi/us-accidents\n",
    "POI = ['Bump', 'Give_Way', 'No_Exit', 'Traffic_Calming', 'Roundabout', 'Amenity', 'Crossing','Junction', 'Railway','Station','Stop','Traffic_Signal']\n",
    "\n",
    "fig, axs = plt.subplots(ncols=4, nrows=3, figsize=(15, 10))\n",
    "plt.subplots_adjust(hspace=0.8,wspace = 0.5)\n",
    "\n",
    "for i, feature in enumerate(POI, 1):    \n",
    "    plt.subplot(4, 3, i)\n",
    "    sns.countplot(x=feature, data=df_clean, hue='Severity', palette=\"Set1\")\n",
    "    \n",
    "    plt.xlabel('{}'.format(feature), size=12, labelpad=3)\n",
    "    plt.ylabel('Accident Count', size=12, labelpad=3)    \n",
    "    plt.tick_params(axis='x', labelsize=12)\n",
    "    plt.tick_params(axis='y', labelsize=12)\n",
    "    \n",
    "    plt.legend(['1','2','3','4'], prop={'size': 10}, loc='upper right')\n",
    "    plt.title('Severity -  {}'.format(feature), size=10, y = 1.05)\n",
    "fig.suptitle('Severity counts for each POI',y=1.02, fontsize=16)\n",
    "plt.show()"
   ]
  },
  {
   "cell_type": "markdown",
   "metadata": {
    "id": "_tKJ9Z583Dwg"
   },
   "source": [
    "As it can be seen from the above subplots and even evident through the dataset overview on kaggle, ```'Bump','Give_Way','No_Exit','Roundabout','Traffic_Calming'``` have no visible/significant True values indicating whether that POI feature played a part in accident occurance.\n",
    "\n",
    "| POI_Features | True | False |\n",
    "| --------------- | --------------- | --------------- |\n",
    "| Bump | 606 (0%) | 3.51m (100%) |\n",
    "| Give_Way | 9564 (0%) | 3.51m (100%) |\n",
    "| No_Exit  | 4384 (0%) | 3.51m (100%) |\n",
    "| Roundabout  | 184 (0%) | 3.51m (100%) |\n",
    "| Traffic_Calming  | 1401 (0%) | 3.51m (100%) |\n",
    "\n",
    "\n",
    "It can be seen that if these POI features were False then more accidents occured and it would make the model biased to the False values of these attributes in predicting an accident. All these attributes have True accounted for almost 100% of the data and False account for approx 0%.\n",
    "\n",
    "Hence it would be right to drop the attributes itself.  \n",
    "<br/>\n",
    "<br/>\n",
    "```Civil_twilight, Nautical_Twilight, Astronomical_Twilight``` have many rows with same values for each attribute. These three columns just shows the period of the day (i.e day or night) based on Civil, Nautical and Astronomical twilight. But since we are already accounting for ```Sunrise_Sunset```, which shows the period of the day based on sunrise/sunset, the other three columns account for duplicate meanings/data and also show high correlation against each other. [This is from the description of the dataset on kaggle]  \n",
    "\n",
    "\n",
    "Since we are already accounting for ```Month, Hour, Weekday``` attributes we are dropping the ```Start_Time, Year``` as well.  \n",
    "\n",
    "```County, Airport_Code, Zip_Code``` are dropped upon feature selection and trial and error based model predictions."
   ]
  },
  {
   "cell_type": "code",
   "execution_count": 14,
   "metadata": {
    "id": "la4eiyd5Ou8q"
   },
   "outputs": [],
   "source": [
    "df_clean= df_clean.drop(['Bump','Give_Way','No_Exit','Roundabout','Traffic_Calming'], axis=1)\n",
    "df_clean = df_clean.drop(['Civil_Twilight', 'Nautical_Twilight','Astronomical_Twilight'], axis=1)\n",
    "df_clean = df_clean.drop(['Start_Time'], axis = 1)\n",
    "df_clean = df_clean.drop(['Zipcode','Airport_Code','Year'], axis=1)\n",
    "df_clean = df_clean.drop(['County'], axis = 1)\n",
    "#df_clean = df_clean.drop(['Month', 'Hour', 'Weekday', 'Street', 'City'], axis = 1)"
   ]
  },
  {
   "cell_type": "markdown",
   "metadata": {
    "id": "tUL-zvqiIhiC"
   },
   "source": [
    "### Scaling + Encoding"
   ]
  },
  {
   "cell_type": "code",
   "execution_count": 15,
   "metadata": {
    "id": "1XrfiwA1IodM"
   },
   "outputs": [],
   "source": [
    "da = df_clean.copy()"
   ]
  },
  {
   "cell_type": "code",
   "execution_count": 16,
   "metadata": {
    "id": "a7znMwYsNA4g"
   },
   "outputs": [],
   "source": [
    "#replacing all True - 1 and False - 0\n",
    "da = da.replace([True, False], [1,0])"
   ]
  },
  {
   "cell_type": "code",
   "execution_count": 17,
   "metadata": {
    "colab": {
     "base_uri": "https://localhost:8080/"
    },
    "id": "B3nEeU_xPBI4",
    "outputId": "d490dbe6-fb4a-4830-bcef-8aa93cf46468"
   },
   "outputs": [
    {
     "data": {
      "text/plain": [
       "Index(['Severity', 'Start_Lat', 'Start_Lng', 'Street', 'Side', 'City', 'State',\n",
       "       'Timezone', 'Temperature(F)', 'Humidity(%)', 'Pressure(in)',\n",
       "       'Visibility(mi)', 'Wind_Direction', 'Wind_Speed(mph)',\n",
       "       'Weather_Condition', 'Amenity', 'Crossing', 'Junction', 'Railway',\n",
       "       'Station', 'Stop', 'Traffic_Signal', 'Sunrise_Sunset', 'Month', 'Hour',\n",
       "       'Weekday'],\n",
       "      dtype='object')"
      ]
     },
     "execution_count": 17,
     "metadata": {},
     "output_type": "execute_result"
    }
   ],
   "source": [
    "da.columns"
   ]
  },
  {
   "cell_type": "code",
   "execution_count": 18,
   "metadata": {
    "id": "IyTjys8JUSRe"
   },
   "outputs": [],
   "source": [
    "from sklearn.preprocessing import StandardScaler\n",
    "from sklearn.preprocessing import OneHotEncoder\n",
    "from sklearn.preprocessing import LabelEncoder"
   ]
  },
  {
   "cell_type": "code",
   "execution_count": 19,
   "metadata": {
    "id": "VoCjAUZMPClX"
   },
   "outputs": [],
   "source": [
    "#using pd_getdummies(one hot encoding)\n",
    "# all of these columns are like binary values true/false, or have atmost 3 unique values\n",
    "#WARNING : THIS WILL ADD EXTRA COLUMNS TO THE DATSET, since its ONE-HOT encoding\n",
    "onehotencode = ['Side', 'Timezone', 'Sunrise_Sunset']\n",
    "#weekday, wind_direction, month, hour\n",
    "for i in onehotencode:\n",
    "    da = pd.concat([da,pd.get_dummies(da[i], prefix=i)],axis=1)\n",
    "    da.drop([i],axis=1, inplace=True)"
   ]
  },
  {
   "cell_type": "code",
   "execution_count": 20,
   "metadata": {
    "id": "I7iPQTz7UAql"
   },
   "outputs": [],
   "source": [
    "numerical_cols = ['Temperature(F)','Humidity(%)','Pressure(in)','Visibility(mi)','Wind_Speed(mph)']\n",
    "#normal distribution - mean is 0 and variance is 1, standard scaling\n",
    "#scaling\n",
    "for i in numerical_cols:\n",
    "    scale = StandardScaler().fit(da[[i]])\n",
    "    #inplace transformation\n",
    "    da[i] = scale.transform(da[[i]])"
   ]
  },
  {
   "cell_type": "code",
   "execution_count": 21,
   "metadata": {
    "colab": {
     "base_uri": "https://localhost:8080/"
    },
    "id": "LYBydRKBUPLl",
    "outputId": "3f19eb11-820f-4c27-9cc9-ee0e1d61d904"
   },
   "outputs": [
    {
     "name": "stdout",
     "output_type": "stream",
     "text": [
      "State done\n",
      "Weather_Condition done\n",
      "Wind_Direction done\n",
      "Month done\n",
      "Hour done\n",
      "Weekday done\n",
      "Street done\n",
      "City done\n"
     ]
    }
   ],
   "source": [
    "#label encoding\n",
    "#many unique values . 3 for each attribute, hence label encoding\n",
    "label_encode=['State', 'Weather_Condition', 'Wind_Direction', 'Month', 'Hour', 'Weekday', 'Street', 'City']\n",
    "labelencoder = LabelEncoder()\n",
    "# Assigning numerical values and storing in another column\n",
    "for i in label_encode:\n",
    "    da[i] = labelencoder.fit_transform(da[i])\n",
    "    print(i+\" done\")"
   ]
  },
  {
   "cell_type": "code",
   "execution_count": 22,
   "metadata": {
    "colab": {
     "base_uri": "https://localhost:8080/"
    },
    "id": "oFXjKKodU2jj",
    "outputId": "827542ec-c9d6-439c-825b-a4133563106a"
   },
   "outputs": [
    {
     "data": {
      "text/plain": [
       "2    2355543\n",
       "3     991939\n",
       "4     109355\n",
       "1      27110\n",
       "Name: Severity, dtype: int64"
      ]
     },
     "execution_count": 22,
     "metadata": {},
     "output_type": "execute_result"
    }
   ],
   "source": [
    "da[\"Severity\"].value_counts()"
   ]
  },
  {
   "cell_type": "markdown",
   "metadata": {
    "id": "BfiW7TqBNCUh"
   },
   "source": [
    "Resampling the datset in order to avoid class imbalance problem.  \n",
    "Combination of both data undersampling and data oversampling(stratified sampling of the population)"
   ]
  },
  {
   "cell_type": "code",
   "execution_count": 23,
   "metadata": {
    "colab": {
     "base_uri": "https://localhost:8080/"
    },
    "id": "CSe-a2puU2gL",
    "outputId": "e2e1d1f1-d7f4-4c33-f548-4e43a532af43"
   },
   "outputs": [
    {
     "data": {
      "text/plain": [
       "4    500000\n",
       "2    250000\n",
       "3     25000\n",
       "1      7500\n",
       "Name: Severity, dtype: int64"
      ]
     },
     "execution_count": 23,
     "metadata": {},
     "output_type": "execute_result"
    }
   ],
   "source": [
    "da_re = pd.concat([da[da['Severity']==4].sample(500000, replace = True, random_state=42),\n",
    "                   da[da['Severity']==3].sample(25000, random_state=42),\n",
    "                   da[da['Severity']==2].sample(250000, random_state=42),\n",
    "                   da[da['Severity']==1].sample(7500, replace = True, random_state=42)], axis=0)\n",
    "\n",
    "da_re[\"Severity\"].value_counts()"
   ]
  },
  {
   "cell_type": "markdown",
   "metadata": {
    "id": "GNKJ5nF-WSaE"
   },
   "source": [
    "# <b>Model</b>"
   ]
  },
  {
   "cell_type": "markdown",
   "metadata": {
    "id": "_s6jxkv-Whqm"
   },
   "source": [
    "```\n",
    "1. Logistic Regression (Baseline)\n",
    "2. KNN Classifier\n",
    "3. Decision Tree Classifier (Entropy, Gini)\n",
    "4. Random Forest Classifier - Best among all\n",
    "5. Neural Network MLP\n",
    "```\n",
    "\n",
    " > Startified Cross Validation is used to evaluate\n"
   ]
  },
  {
   "cell_type": "code",
   "execution_count": 24,
   "metadata": {
    "id": "jRvtPEGRU2dC"
   },
   "outputs": [],
   "source": [
    "from sklearn.linear_model import LogisticRegression\n",
    "from sklearn.tree import DecisionTreeClassifier\n",
    "from sklearn.ensemble import RandomForestClassifier\n",
    "from sklearn.neighbors import KNeighborsClassifier\n",
    "from sklearn import svm\n",
    "from sklearn import neural_network\n",
    "\n",
    "import time\n",
    "from sklearn.model_selection import train_test_split, StratifiedKFold, cross_validate\n",
    "from sklearn.metrics import classification_report\n",
    "from sklearn.metrics import confusion_matrix, accuracy_score, f1_score,plot_confusion_matrix\n",
    "warnings.filterwarnings('ignore')\n",
    "\n",
    "cv_split = StratifiedKFold(n_splits = 10) #Cross vlidation checking, using K-fold\n",
    "plt.style.use('fivethirtyeight')\n",
    "sns.set(rc={'figure.figsize':(12,6)})"
   ]
  },
  {
   "cell_type": "code",
   "execution_count": 25,
   "metadata": {
    "id": "QYMCO0QkWWTK"
   },
   "outputs": [],
   "source": [
    "X = da_re.drop('Severity',axis=1)\n",
    "y = da_re['Severity']\n",
    "\n",
    "from sklearn.model_selection import train_test_split\n",
    "X_train, X_test, y_train, y_test = train_test_split(X, y, test_size=0.20, random_state=42, stratify=y)\n",
    "class_names = list(y.unique())"
   ]
  },
  {
   "cell_type": "code",
   "execution_count": 33,
   "metadata": {
    "id": "nPtk5LnFjY-R"
   },
   "outputs": [],
   "source": [
    "def check(y_test, y_pred, labels1):\n",
    "  print(classification_report(y_test, y_pred, labels = labels1))\n",
    "  acc = accuracy_score(y_test,y_pred)\n",
    "  f1 = f1_score(y_test,y_pred,average='weighted')\n",
    "  print(f\"Accuracy: {acc*100:.3f} %\\nF1-score: {f1*100:.3f} %\")\n",
    "\n",
    "def con_mat_plot(title1, model, X_test, y_test, labels1):\n",
    "  title = title1\n",
    "  disp = plot_confusion_matrix(model, X_test, y_test,\n",
    "                                 display_labels = labels1,\n",
    "                                 cmap=plt.cm.Blues)\n",
    "  disp.ax_.set_title(title)\n",
    "  print(title)\n",
    "  print(disp.confusion_matrix)\n",
    "  plt.grid(b=None)\n",
    "  plt.show()"
   ]
  },
  {
   "cell_type": "markdown",
   "metadata": {
    "id": "cel-4WH0Ng1Q"
   },
   "source": [
    "### <b><h3>Logistic Regression (Baseline)</h3></b>"
   ]
  },
  {
   "cell_type": "code",
   "execution_count": 30,
   "metadata": {
    "colab": {
     "base_uri": "https://localhost:8080/"
    },
    "id": "WKDhb7CrWbDq",
    "outputId": "37169e02-8fe1-4156-9e45-a7a1bad4622f"
   },
   "outputs": [
    {
     "name": "stderr",
     "output_type": "stream",
     "text": [
      "[Parallel(n_jobs=1)]: Using backend SequentialBackend with 1 concurrent workers.\n"
     ]
    },
    {
     "name": "stdout",
     "output_type": "stream",
     "text": [
      "Wall time: 1min 3s\n"
     ]
    },
    {
     "name": "stderr",
     "output_type": "stream",
     "text": [
      "[Parallel(n_jobs=1)]: Done   1 out of   1 | elapsed:  1.1min remaining:    0.0s\n",
      "[Parallel(n_jobs=1)]: Done   1 out of   1 | elapsed:  1.1min finished\n"
     ]
    }
   ],
   "source": [
    "lr = LogisticRegression(max_iter=100,random_state=42, verbose = 10)\n",
    "\n",
    "%time lr.fit(X_train,y_train)\n",
    "y_pred_lr = lr.predict(X_test)"
   ]
  },
  {
   "cell_type": "code",
   "execution_count": 34,
   "metadata": {
    "colab": {
     "base_uri": "https://localhost:8080/"
    },
    "id": "qaOdzPuuTrNY",
    "outputId": "588a42fb-a28c-4068-8157-a2319207586f"
   },
   "outputs": [
    {
     "name": "stdout",
     "output_type": "stream",
     "text": [
      "              precision    recall  f1-score   support\n",
      "\n",
      "           4       0.67      0.90      0.77    100000\n",
      "           3       0.00      0.00      0.00      5000\n",
      "           2       0.49      0.21      0.29     50000\n",
      "           1       0.00      0.00      0.00      1500\n",
      "\n",
      "    accuracy                           0.64    156500\n",
      "   macro avg       0.29      0.28      0.26    156500\n",
      "weighted avg       0.58      0.64      0.58    156500\n",
      "\n",
      "Accuracy: 64.158 %\n",
      "F1-score: 58.265 %\n"
     ]
    }
   ],
   "source": [
    "check(y_test, y_pred_lr, da_re.Severity.unique().tolist())"
   ]
  },
  {
   "cell_type": "code",
   "execution_count": 35,
   "metadata": {
    "colab": {
     "base_uri": "https://localhost:8080/",
     "height": 520
    },
    "id": "N3VNp-gWd1f3",
    "outputId": "ddcc8060-32a2-403a-b0cf-ab7a2a21cef6"
   },
   "outputs": [
    {
     "name": "stdout",
     "output_type": "stream",
     "text": [
      "Logistic Regression Confusion Matrix\n",
      "[[    0   137     0  1363]\n",
      " [    0 10487     0 39513]\n",
      " [    0   717     0  4283]\n",
      " [    0 10080     0 89920]]\n"
     ]
    },
    {
     "data": {
      "image/png": "[encoded data removed]",
      "text/plain": [
       "<Figure size 864x432 with 2 Axes>"
      ]
     },
     "metadata": {},
     "output_type": "display_data"
    }
   ],
   "source": [
    "con_mat_plot('Logistic Regression Confusion Matrix', lr, X_test, y_test, class_names.sort())"
   ]
  },
  {
   "cell_type": "code",
   "execution_count": 36,
   "metadata": {
    "colab": {
     "base_uri": "https://localhost:8080/"
    },
    "id": "J2F6E7sPe2Nz",
    "outputId": "7a5c6882-c5b5-40f2-95ca-89ec14fd9ab8"
   },
   "outputs": [
    {
     "name": "stderr",
     "output_type": "stream",
     "text": [
      "[Parallel(n_jobs=-1)]: Using backend LokyBackend with 12 concurrent workers.\n",
      "[Parallel(n_jobs=-1)]: Done   2 out of  10 | elapsed:  1.6min remaining:  6.3min\n",
      "[Parallel(n_jobs=-1)]: Done   5 out of  10 | elapsed:  1.6min remaining:  1.6min\n",
      "[Parallel(n_jobs=-1)]: Done   8 out of  10 | elapsed:  1.6min remaining:   24.3s\n",
      "[Parallel(n_jobs=-1)]: Done  10 out of  10 | elapsed:  1.7min finished\n"
     ]
    }
   ],
   "source": [
    "cv_results = cross_validate(lr, X, y, cv = cv_split,verbose=5,n_jobs=-1,\n",
    "                           scoring=('accuracy', 'f1_weighted'),\n",
    "                           return_train_score = True)"
   ]
  },
  {
   "cell_type": "code",
   "execution_count": 37,
   "metadata": {
    "colab": {
     "base_uri": "https://localhost:8080/"
    },
    "id": "MPTyjJ3ce8Zn",
    "outputId": "26376a69-5886-46b1-81b0-d35456f0080e"
   },
   "outputs": [
    {
     "name": "stdout",
     "output_type": "stream",
     "text": [
      "Average Fit Time: 91.54592773914337 seconds\n",
      "Average Train Accuracy: 63.901 %\n",
      "Average Test Accuracy: 63.859 %\n",
      "Average Train F1_Score: 58.496 %\n",
      "Average Test F1_Score: 58.443 %\n"
     ]
    }
   ],
   "source": [
    "print(f\"Average Fit Time: {cv_results['fit_time'].mean()} seconds\")\n",
    "print(f\"Average Train Accuracy: {cv_results['train_accuracy'].mean()*100:.3f} %\")\n",
    "print(f\"Average Test Accuracy: {cv_results['test_accuracy'].mean()*100:.3f} %\")\n",
    "print(f\"Average Train F1_Score: {cv_results['train_f1_weighted'].mean()*100:.3f} %\")\n",
    "print(f\"Average Test F1_Score: {cv_results['test_f1_weighted'].mean()*100:.3f} %\")"
   ]
  },
  {
   "cell_type": "markdown",
   "metadata": {
    "id": "Uwa2Vw_uXW9N"
   },
   "source": [
    "### <b><h3>KNN Classifier</h3></b>"
   ]
  },
  {
   "cell_type": "code",
   "execution_count": 38,
   "metadata": {
    "colab": {
     "base_uri": "https://localhost:8080/"
    },
    "id": "LC1FsOuWXdVX",
    "outputId": "2822cc57-d31e-4749-ac34-1fb77af63049"
   },
   "outputs": [
    {
     "name": "stdout",
     "output_type": "stream",
     "text": [
      "Wall time: 15.7 s\n"
     ]
    }
   ],
   "source": [
    "knn = KNeighborsClassifier(n_neighbors = 6,n_jobs=-1)\n",
    "\n",
    "%time knn.fit(X_train,y_train)\n",
    "y_pred_knn = knn.predict(X_test)"
   ]
  },
  {
   "cell_type": "code",
   "execution_count": 39,
   "metadata": {
    "colab": {
     "base_uri": "https://localhost:8080/"
    },
    "id": "ualQYv0uXrDR",
    "outputId": "0a894a6d-c984-428f-9d75-37eac24cc8c4"
   },
   "outputs": [
    {
     "name": "stdout",
     "output_type": "stream",
     "text": [
      "              precision    recall  f1-score   support\n",
      "\n",
      "           4       0.86      0.94      0.90    100000\n",
      "           3       0.28      0.05      0.08      5000\n",
      "           2       0.82      0.74      0.77     50000\n",
      "           1       0.38      0.19      0.26      1500\n",
      "\n",
      "    accuracy                           0.84    156500\n",
      "   macro avg       0.58      0.48      0.50    156500\n",
      "weighted avg       0.82      0.84      0.83    156500\n",
      "\n",
      "Accuracy: 84.065 %\n",
      "F1-score: 82.647 %\n"
     ]
    }
   ],
   "source": [
    "check(y_test, y_pred_knn, da_re.Severity.unique().tolist())"
   ]
  },
  {
   "cell_type": "code",
   "execution_count": 40,
   "metadata": {
    "colab": {
     "base_uri": "https://localhost:8080/",
     "height": 520
    },
    "id": "pNT5REsKeR8j",
    "outputId": "40ccb538-2e19-4848-f2c4-d25fc9377425"
   },
   "outputs": [
    {
     "name": "stdout",
     "output_type": "stream",
     "text": [
      "KNN Confusion Matrix\n",
      "[[  286   537     8   669]\n",
      " [  283 36889   417 12411]\n",
      " [   29  2303   244  2424]\n",
      " [  145  5511   201 94143]]\n"
     ]
    },
    {
     "data": {
      "image/png": "[encoded data removed]",
      "text/plain": [
       "<Figure size 864x432 with 2 Axes>"
      ]
     },
     "metadata": {},
     "output_type": "display_data"
    }
   ],
   "source": [
    "con_mat_plot('KNN Confusion Matrix', knn, X_test, y_test, class_names.sort())"
   ]
  },
  {
   "cell_type": "code",
   "execution_count": 45,
   "metadata": {},
   "outputs": [
    {
     "name": "stderr",
     "output_type": "stream",
     "text": [
      "[Parallel(n_jobs=-1)]: Using backend LokyBackend with 12 concurrent workers.\n",
      "[Parallel(n_jobs=-1)]: Done   2 out of  10 | elapsed:  2.3min remaining:  9.3min\n",
      "[Parallel(n_jobs=-1)]: Done   5 out of  10 | elapsed:  2.4min remaining:  2.4min\n",
      "[Parallel(n_jobs=-1)]: Done   8 out of  10 | elapsed:  2.4min remaining:   35.4s\n",
      "[Parallel(n_jobs=-1)]: Done  10 out of  10 | elapsed:  2.4min finished\n"
     ]
    }
   ],
   "source": [
    "cv_results = cross_validate(knn, X, y, cv = cv_split,verbose=5,n_jobs=-1,\n",
    "                           scoring=('accuracy', 'f1_weighted'),\n",
    "                           return_train_score = True)"
   ]
  },
  {
   "cell_type": "code",
   "execution_count": 46,
   "metadata": {},
   "outputs": [
    {
     "name": "stdout",
     "output_type": "stream",
     "text": [
      "Average Fit Time: 40.66883914470672 seconds\n",
      "Average Train Accuracy: 88.969 %\n",
      "Average Test Accuracy: 85.001 %\n",
      "Average Train F1_Score: 87.826 %\n",
      "Average Test F1_Score: 83.597 %\n"
     ]
    }
   ],
   "source": [
    "print(f\"Average Fit Time: {cv_results['fit_time'].mean()} seconds\")\n",
    "print(f\"Average Train Accuracy: {cv_results['train_accuracy'].mean()*100:.3f} %\")\n",
    "print(f\"Average Test Accuracy: {cv_results['test_accuracy'].mean()*100:.3f} %\")\n",
    "print(f\"Average Train F1_Score: {cv_results['train_f1_weighted'].mean()*100:.3f} %\")\n",
    "print(f\"Average Test F1_Score: {cv_results['test_f1_weighted'].mean()*100:.3f} %\")"
   ]
  },
  {
   "cell_type": "markdown",
   "metadata": {
    "id": "7eGpdNqzOHXw"
   },
   "source": [
    "### <b><h3>Decision Tree Classifier</h3></b>"
   ]
  },
  {
   "cell_type": "code",
   "execution_count": 43,
   "metadata": {
    "colab": {
     "base_uri": "https://localhost:8080/"
    },
    "id": "67fYh-PoWeii",
    "outputId": "d5f1fe2a-3979-472e-e66b-c8eb54d58458"
   },
   "outputs": [
    {
     "name": "stdout",
     "output_type": "stream",
     "text": [
      "Wall time: 18.3 s\n",
      "Wall time: 19.9 s\n"
     ]
    }
   ],
   "source": [
    "dtc_entropy = DecisionTreeClassifier(criterion='entropy')\n",
    "dtc_gini = DecisionTreeClassifier(criterion='gini')\n",
    "\n",
    "%time dtc_entropy.fit(X_train, y_train)\n",
    "y_pred_dtc_entropy= dtc_entropy.predict(X_test)\n",
    "\n",
    "%time dtc_gini.fit(X_train, y_train)\n",
    "y_pred_dtc_gini = dtc_gini.predict(X_test)"
   ]
  },
  {
   "cell_type": "code",
   "execution_count": 44,
   "metadata": {
    "colab": {
     "base_uri": "https://localhost:8080/"
    },
    "id": "pCR9TAxgTfSu",
    "outputId": "23d2f392-81cb-4ade-cbdd-ef10f8b206de"
   },
   "outputs": [
    {
     "name": "stdout",
     "output_type": "stream",
     "text": [
      "DTC_ENTROPY\n",
      "              precision    recall  f1-score   support\n",
      "\n",
      "           4       0.93      0.99      0.96    100000\n",
      "           3       0.26      0.21      0.23      5000\n",
      "           2       0.92      0.81      0.86     50000\n",
      "           1       0.56      0.55      0.56      1500\n",
      "\n",
      "    accuracy                           0.90    156500\n",
      "   macro avg       0.67      0.64      0.65    156500\n",
      "weighted avg       0.90      0.90      0.90    156500\n",
      "\n",
      "Accuracy: 90.478 %\n",
      "F1-score: 90.059 %\n",
      "----------------------------------------------------------------------------------------------------\n",
      "\n",
      "DTC_GINI\n",
      "              precision    recall  f1-score   support\n",
      "\n",
      "           4       0.93      0.99      0.96    100000\n",
      "           3       0.24      0.20      0.22      5000\n",
      "           2       0.92      0.81      0.86     50000\n",
      "           1       0.55      0.54      0.54      1500\n",
      "\n",
      "    accuracy                           0.90    156500\n",
      "   macro avg       0.66      0.64      0.65    156500\n",
      "weighted avg       0.90      0.90      0.90    156500\n",
      "\n",
      "Accuracy: 90.453 %\n",
      "F1-score: 90.061 %\n"
     ]
    }
   ],
   "source": [
    "print(\"DTC_ENTROPY\")\n",
    "check(y_test, y_pred_dtc_entropy, da_re.Severity.unique().tolist())\n",
    "\n",
    "print('-'*100)\n",
    "\n",
    "print(\"\\nDTC_GINI\")\n",
    "check(y_test, y_pred_dtc_gini, da_re.Severity.unique().tolist())"
   ]
  },
  {
   "cell_type": "code",
   "execution_count": 47,
   "metadata": {
    "colab": {
     "base_uri": "https://localhost:8080/",
     "height": 520
    },
    "id": "-ru49d50efu1",
    "outputId": "441ca55b-62bc-4e4f-9e8d-4d3d7424ba18"
   },
   "outputs": [
    {
     "name": "stdout",
     "output_type": "stream",
     "text": [
      "Decision Tree - Gini Matrix\n",
      "[[  809   419    48   224]\n",
      " [  588 40452  2990  5970]\n",
      " [   52  2584  1005  1359]\n",
      " [   32   562   113 99293]]\n"
     ]
    },
    {
     "data": {
      "image/png": "[encoded data removed]",
      "text/plain": [
       "<Figure size 864x432 with 2 Axes>"
      ]
     },
     "metadata": {},
     "output_type": "display_data"
    }
   ],
   "source": [
    "con_mat_plot('Decision Tree - Gini Matrix', dtc_gini, X_test, y_test, class_names.sort())"
   ]
  },
  {
   "cell_type": "code",
   "execution_count": 48,
   "metadata": {},
   "outputs": [
    {
     "name": "stderr",
     "output_type": "stream",
     "text": [
      "[Parallel(n_jobs=-1)]: Using backend LokyBackend with 12 concurrent workers.\n",
      "[Parallel(n_jobs=-1)]: Done   2 out of  10 | elapsed:   48.4s remaining:  3.2min\n",
      "[Parallel(n_jobs=-1)]: Done   5 out of  10 | elapsed:   48.8s remaining:   48.8s\n",
      "[Parallel(n_jobs=-1)]: Done   8 out of  10 | elapsed:   49.0s remaining:   12.2s\n",
      "[Parallel(n_jobs=-1)]: Done  10 out of  10 | elapsed:   49.2s finished\n"
     ]
    }
   ],
   "source": [
    "cv_results = cross_validate(dtc_entropy , X, y, cv = cv_split,verbose=5,n_jobs=-1,\n",
    "                           scoring=('accuracy', 'f1_weighted'),\n",
    "                           return_train_score = True)"
   ]
  },
  {
   "cell_type": "code",
   "execution_count": 49,
   "metadata": {},
   "outputs": [
    {
     "name": "stdout",
     "output_type": "stream",
     "text": [
      "Average Fit Time: 46.324209856987 seconds\n",
      "Average Train Accuracy: 99.995 %\n",
      "Average Test Accuracy: 91.014 %\n",
      "Average Train F1_Score: 99.995 %\n",
      "Average Test F1_Score: 90.620 %\n"
     ]
    }
   ],
   "source": [
    "print(f\"Average Fit Time: {cv_results['fit_time'].mean()} seconds\")\n",
    "print(f\"Average Train Accuracy: {cv_results['train_accuracy'].mean()*100:.3f} %\")\n",
    "print(f\"Average Test Accuracy: {cv_results['test_accuracy'].mean()*100:.3f} %\")\n",
    "print(f\"Average Train F1_Score: {cv_results['train_f1_weighted'].mean()*100:.3f} %\")\n",
    "print(f\"Average Test F1_Score: {cv_results['test_f1_weighted'].mean()*100:.3f} %\")"
   ]
  },
  {
   "cell_type": "markdown",
   "metadata": {
    "id": "1YJGezb-RhFI"
   },
   "source": [
    "### <b><h3>Random Forest Classifier</h3></b>"
   ]
  },
  {
   "cell_type": "code",
   "execution_count": 50,
   "metadata": {
    "colab": {
     "base_uri": "https://localhost:8080/"
    },
    "id": "jG1PiPomXHxq",
    "outputId": "bc9a58de-190c-4065-d00f-152a8fbc08a2"
   },
   "outputs": [
    {
     "name": "stdout",
     "output_type": "stream",
     "text": [
      "Wall time: 9min 6s\n"
     ]
    }
   ],
   "source": [
    "rfc = RandomForestClassifier(n_estimators=150)\n",
    "\n",
    "%time rfc.fit(X_train,y_train)\n",
    "y_pred_rfc = rfc.predict(X_test)"
   ]
  },
  {
   "cell_type": "code",
   "execution_count": 51,
   "metadata": {
    "colab": {
     "base_uri": "https://localhost:8080/"
    },
    "id": "y3BFK9WSS-__",
    "outputId": "124d1ff3-6b6f-4043-956e-936fb5957f74"
   },
   "outputs": [
    {
     "name": "stdout",
     "output_type": "stream",
     "text": [
      "              precision    recall  f1-score   support\n",
      "\n",
      "           4       0.94      1.00      0.97    100000\n",
      "           3       0.55      0.02      0.03      5000\n",
      "           2       0.91      0.90      0.91     50000\n",
      "           1       0.89      0.50      0.64      1500\n",
      "\n",
      "    accuracy                           0.93    156500\n",
      "   macro avg       0.82      0.60      0.64    156500\n",
      "weighted avg       0.92      0.93      0.91    156500\n",
      "\n",
      "Accuracy: 92.913 %\n",
      "F1-score: 91.383 %\n"
     ]
    }
   ],
   "source": [
    "check(y_test, y_pred_rfc, da_re.Severity.unique().tolist())"
   ]
  },
  {
   "cell_type": "code",
   "execution_count": 52,
   "metadata": {
    "colab": {
     "base_uri": "https://localhost:8080/",
     "height": 520
    },
    "id": "zTqxCTa2ejSE",
    "outputId": "07f20059-811b-484c-e5df-0aa74aa0d838"
   },
   "outputs": [
    {
     "name": "stdout",
     "output_type": "stream",
     "text": [
      "Random Forest Classifier Confusion Matrix\n",
      "[[  757   492     0   251]\n",
      " [   86 44999    65  4850]\n",
      " [    4  3291    80  1625]\n",
      " [    5   421     1 99573]]\n"
     ]
    },
    {
     "data": {
      "image/png": "[encoded data removed]",
      "text/plain": [
       "<Figure size 864x432 with 2 Axes>"
      ]
     },
     "metadata": {},
     "output_type": "display_data"
    }
   ],
   "source": [
    "con_mat_plot('Random Forest Classifier Confusion Matrix', rfc, X_test, y_test, class_names.sort())"
   ]
  },
  {
   "cell_type": "code",
   "execution_count": 59,
   "metadata": {},
   "outputs": [
    {
     "data": {
      "text/plain": [
       "Text(0.5, 0, 'Random Forest Feature Importance')"
      ]
     },
     "execution_count": 59,
     "metadata": {},
     "output_type": "execute_result"
    },
    {
     "data": {
      "image/png": "[encoded data removed]",
      "text/plain": [
       "<Figure size 864x432 with 1 Axes>"
      ]
     },
     "metadata": {},
     "output_type": "display_data"
    }
   ],
   "source": [
    "sorted_idx = rfc.feature_importances_.argsort()[:10]\n",
    "plt.barh(X_train.columns[sorted_idx], rfc.feature_importances_[sorted_idx],color=\"red\")\n",
    "plt.xlabel(\"Random Forest Feature Importance\")"
   ]
  },
  {
   "cell_type": "code",
   "execution_count": 56,
   "metadata": {},
   "outputs": [
    {
     "name": "stderr",
     "output_type": "stream",
     "text": [
      "[Parallel(n_jobs=-1)]: Using backend LokyBackend with 12 concurrent workers.\n",
      "[Parallel(n_jobs=-1)]: Done   2 out of  10 | elapsed: 16.2min remaining: 64.9min\n",
      "[Parallel(n_jobs=-1)]: Done   5 out of  10 | elapsed: 16.4min remaining: 16.4min\n",
      "[Parallel(n_jobs=-1)]: Done   8 out of  10 | elapsed: 16.5min remaining:  4.1min\n",
      "[Parallel(n_jobs=-1)]: Done  10 out of  10 | elapsed: 16.6min finished\n"
     ]
    }
   ],
   "source": [
    "cv_results = cross_validate(rfc, X, y, cv = cv_split,verbose=5,n_jobs=-1,\n",
    "                           scoring=('accuracy', 'f1_weighted'),\n",
    "                           return_train_score = True)"
   ]
  },
  {
   "cell_type": "code",
   "execution_count": 57,
   "metadata": {},
   "outputs": [
    {
     "name": "stdout",
     "output_type": "stream",
     "text": [
      "Average Fit Time: 772.2159841060638 seconds\n",
      "Average Train Accuracy: 99.995 %\n",
      "Average Test Accuracy: 93.387 %\n",
      "Average Train F1_Score: 99.995 %\n",
      "Average Test F1_Score: 91.871 %\n"
     ]
    }
   ],
   "source": [
    "print(f\"Average Fit Time: {cv_results['fit_time'].mean()} seconds\")\n",
    "print(f\"Average Train Accuracy: {cv_results['train_accuracy'].mean()*100:.3f} %\")\n",
    "print(f\"Average Test Accuracy: {cv_results['test_accuracy'].mean()*100:.3f} %\")\n",
    "print(f\"Average Train F1_Score: {cv_results['train_f1_weighted'].mean()*100:.3f} %\")\n",
    "print(f\"Average Test F1_Score: {cv_results['test_f1_weighted'].mean()*100:.3f} %\")"
   ]
  },
  {
   "cell_type": "markdown",
   "metadata": {
    "id": "K7RmGhASpSC_"
   },
   "source": [
    "### Neural Network MLP"
   ]
  },
  {
   "cell_type": "code",
   "execution_count": 53,
   "metadata": {
    "colab": {
     "base_uri": "https://localhost:8080/"
    },
    "id": "g11ADJUnerEU",
    "outputId": "84119ae8-9ad5-4f3e-acbe-f55de6c6b28e"
   },
   "outputs": [
    {
     "name": "stdout",
     "output_type": "stream",
     "text": [
      "Iteration 1, loss = 1.84984686\n",
      "Validation score: 0.640048\n",
      "Iteration 2, loss = 0.80683447\n",
      "Validation score: 0.640048\n",
      "Iteration 3, loss = 0.80493667\n",
      "Validation score: 0.640048\n",
      "Iteration 4, loss = 0.80496673\n",
      "Validation score: 0.640048\n",
      "Iteration 5, loss = 0.80495433\n",
      "Validation score: 0.640048\n",
      "Iteration 6, loss = 0.80644768\n",
      "Validation score: 0.640048\n",
      "Iteration 7, loss = 0.80490754\n",
      "Validation score: 0.640048\n",
      "Iteration 8, loss = 0.80468002\n",
      "Validation score: 0.640048\n",
      "Iteration 9, loss = 0.80462838\n",
      "Validation score: 0.640048\n",
      "Iteration 10, loss = 0.75239836\n",
      "Validation score: 0.640048\n",
      "Iteration 11, loss = 0.73667993\n",
      "Validation score: 0.640048\n",
      "Iteration 12, loss = 0.73375896\n",
      "Validation score: 0.640048\n",
      "Validation score did not improve more than tol=0.000100 for 10 consecutive epochs. Stopping.\n",
      "Wall time: 29.3 s\n"
     ]
    }
   ],
   "source": [
    "nn = neural_network.MLPClassifier(hidden_layer_sizes=(10, 5, 2), max_iter = 100, verbose = 1, learning_rate='adaptive', early_stopping=True, solver='adam')\n",
    "\n",
    "%time nn.fit(X_train,y_train)\n",
    "y_pred_nn = nn.predict(X_test)"
   ]
  },
  {
   "cell_type": "code",
   "execution_count": 54,
   "metadata": {
    "colab": {
     "base_uri": "https://localhost:8080/"
    },
    "id": "_K0KwhB9pseI",
    "outputId": "22907533-93d7-4176-b61c-7ed1c9145180"
   },
   "outputs": [
    {
     "name": "stdout",
     "output_type": "stream",
     "text": [
      "              precision    recall  f1-score   support\n",
      "\n",
      "           4       0.64      1.00      0.78    100000\n",
      "           3       0.00      0.00      0.00      5000\n",
      "           2       0.00      0.00      0.00     50000\n",
      "           1       0.00      0.00      0.00      1500\n",
      "\n",
      "    accuracy                           0.64    156500\n",
      "   macro avg       0.16      0.25      0.19    156500\n",
      "weighted avg       0.41      0.64      0.50    156500\n",
      "\n",
      "Accuracy: 63.898 %\n",
      "F1-score: 49.823 %\n"
     ]
    }
   ],
   "source": [
    "check(y_test, y_pred_nn, da_re.Severity.unique().tolist())"
   ]
  },
  {
   "cell_type": "code",
   "execution_count": 55,
   "metadata": {
    "colab": {
     "base_uri": "https://localhost:8080/",
     "height": 520
    },
    "id": "zTJA3lu2psVT",
    "outputId": "d35ec728-dd61-4996-d15c-812b4164e54c"
   },
   "outputs": [
    {
     "name": "stdout",
     "output_type": "stream",
     "text": [
      "Neural Network MLP Confusion Matrix\n",
      "[[     0      0      0   1500]\n",
      " [     0      0      0  50000]\n",
      " [     0      0      0   5000]\n",
      " [     0      0      0 100000]]\n"
     ]
    },
    {
     "data": {
      "image/png": "[encoded data removed]",
      "text/plain": [
       "<Figure size 864x432 with 2 Axes>"
      ]
     },
     "metadata": {},
     "output_type": "display_data"
    }
   ],
   "source": [
    "con_mat_plot('Neural Network MLP Confusion Matrix', nn, X_test, y_test, class_names.sort())"
   ]
  },
  {
   "cell_type": "code",
   "execution_count": 58,
   "metadata": {
    "id": "YZ7WvEMez3pv"
   },
   "outputs": [
    {
     "data": {
      "text/html": [
       "<div>\n",
       "<style scoped>\n",
       "    .dataframe tbody tr th:only-of-type {\n",
       "        vertical-align: middle;\n",
       "    }\n",
       "\n",
       "    .dataframe tbody tr th {\n",
       "        vertical-align: top;\n",
       "    }\n",
       "\n",
       "    .dataframe thead th {\n",
       "        text-align: right;\n",
       "    }\n",
       "</style>\n",
       "<table border=\"1\" class=\"dataframe\">\n",
       "  <thead>\n",
       "    <tr style=\"text-align: right;\">\n",
       "      <th></th>\n",
       "      <th>Algorithm</th>\n",
       "      <th>Training_Acc</th>\n",
       "      <th>Avg_Testing_Acc</th>\n",
       "      <th>F1_Score</th>\n",
       "    </tr>\n",
       "  </thead>\n",
       "  <tbody>\n",
       "    <tr>\n",
       "      <th>0</th>\n",
       "      <td>Logistic_reg</td>\n",
       "      <td>63.901</td>\n",
       "      <td>63.859</td>\n",
       "      <td>58.443</td>\n",
       "    </tr>\n",
       "    <tr>\n",
       "      <th>1</th>\n",
       "      <td>KNN</td>\n",
       "      <td>88.969</td>\n",
       "      <td>85.001</td>\n",
       "      <td>83.597</td>\n",
       "    </tr>\n",
       "    <tr>\n",
       "      <th>2</th>\n",
       "      <td>Decision_Tree</td>\n",
       "      <td>99.995</td>\n",
       "      <td>91.014</td>\n",
       "      <td>90.620</td>\n",
       "    </tr>\n",
       "    <tr>\n",
       "      <th>3</th>\n",
       "      <td>Random_Forest</td>\n",
       "      <td>92.913</td>\n",
       "      <td>93.387</td>\n",
       "      <td>91.871</td>\n",
       "    </tr>\n",
       "  </tbody>\n",
       "</table>\n",
       "</div>"
      ],
      "text/plain": [
       "       Algorithm  Training_Acc  Avg_Testing_Acc  F1_Score\n",
       "0   Logistic_reg        63.901           63.859    58.443\n",
       "1            KNN        88.969           85.001    83.597\n",
       "2  Decision_Tree        99.995           91.014    90.620\n",
       "3  Random_Forest        92.913           93.387    91.871"
      ]
     },
     "execution_count": 58,
     "metadata": {},
     "output_type": "execute_result"
    }
   ],
   "source": [
    "data = {'Algorithm':['Logistic_reg', 'KNN', 'Decision_Tree', 'Random_Forest'], \n",
    "        'Training_Acc':[63.901,88.969 ,99.995, 92.913],\n",
    "        'Avg_Testing_Acc':[63.859,85.001,91.014,93.387],\n",
    "        'F1_Score':[58.443,83.597,90.620,91.871]} \n",
    "  \n",
    "# Create DataFrame \n",
    "df = pd.DataFrame(data) \n",
    "  \n",
    "# Print the output. \n",
    "df "
   ]
  }
 ],
 "metadata": {
  "accelerator": "GPU",
  "colab": {
   "authorship_tag": "ABX9TyOT88ZOESfyvmvPnWJxmFDC",
   "collapsed_sections": [],
   "include_colab_link": true,
   "name": "EndToEnd.ipynb",
   "provenance": []
  },
  "kernelspec": {
   "display_name": "Python 3",
   "language": "python",
   "name": "python3"
  },
  "language_info": {
   "codemirror_mode": {
    "name": "ipython",
    "version": 3
   },
   "file_extension": ".py",
   "mimetype": "text/x-python",
   "name": "python",
   "nbconvert_exporter": "python",
   "pygments_lexer": "ipython3",
   "version": "3.7.7"
  }
 },
 "nbformat": 4,
 "nbformat_minor": 4
}
